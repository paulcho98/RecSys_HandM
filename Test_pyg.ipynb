{
 "cells": [
  {
   "cell_type": "code",
   "execution_count": 1,
   "id": "082accfb-fee5-4440-87aa-2fbf65dde970",
   "metadata": {},
   "outputs": [],
   "source": [
    "import os.path as osp\n",
    "\n",
    "import torch\n",
    "from tqdm import tqdm\n",
    "import pandas as pd\n",
    "\n",
    "from torch_geometric.datasets import AmazonBook\n",
    "from torch_geometric.nn import LightGCN\n",
    "from torch_geometric.utils import degree"
   ]
  },
  {
   "cell_type": "code",
   "execution_count": 2,
   "id": "ee888c5a-d60d-476f-9d3e-290026ab0697",
   "metadata": {},
   "outputs": [
    {
     "data": {
      "text/html": [
       "<div>\n",
       "<style scoped>\n",
       "    .dataframe tbody tr th:only-of-type {\n",
       "        vertical-align: middle;\n",
       "    }\n",
       "\n",
       "    .dataframe tbody tr th {\n",
       "        vertical-align: top;\n",
       "    }\n",
       "\n",
       "    .dataframe thead th {\n",
       "        text-align: right;\n",
       "    }\n",
       "</style>\n",
       "<table border=\"1\" class=\"dataframe\">\n",
       "  <thead>\n",
       "    <tr style=\"text-align: right;\">\n",
       "      <th></th>\n",
       "      <th>Unnamed: 0</th>\n",
       "      <th>customer_id</th>\n",
       "      <th>article_id</th>\n",
       "      <th>year</th>\n",
       "      <th>month</th>\n",
       "      <th>day</th>\n",
       "    </tr>\n",
       "  </thead>\n",
       "  <tbody>\n",
       "    <tr>\n",
       "      <th>0</th>\n",
       "      <td>479507</td>\n",
       "      <td>232477</td>\n",
       "      <td>28866</td>\n",
       "      <td>20</td>\n",
       "      <td>1</td>\n",
       "      <td>18</td>\n",
       "    </tr>\n",
       "    <tr>\n",
       "      <th>1</th>\n",
       "      <td>5328148</td>\n",
       "      <td>306128</td>\n",
       "      <td>7094</td>\n",
       "      <td>20</td>\n",
       "      <td>6</td>\n",
       "      <td>18</td>\n",
       "    </tr>\n",
       "    <tr>\n",
       "      <th>2</th>\n",
       "      <td>4779175</td>\n",
       "      <td>41132</td>\n",
       "      <td>12896</td>\n",
       "      <td>20</td>\n",
       "      <td>6</td>\n",
       "      <td>4</td>\n",
       "    </tr>\n",
       "    <tr>\n",
       "      <th>3</th>\n",
       "      <td>4852517</td>\n",
       "      <td>189305</td>\n",
       "      <td>34181</td>\n",
       "      <td>20</td>\n",
       "      <td>6</td>\n",
       "      <td>6</td>\n",
       "    </tr>\n",
       "    <tr>\n",
       "      <th>4</th>\n",
       "      <td>7130496</td>\n",
       "      <td>238987</td>\n",
       "      <td>18606</td>\n",
       "      <td>20</td>\n",
       "      <td>7</td>\n",
       "      <td>31</td>\n",
       "    </tr>\n",
       "    <tr>\n",
       "      <th>...</th>\n",
       "      <td>...</td>\n",
       "      <td>...</td>\n",
       "      <td>...</td>\n",
       "      <td>...</td>\n",
       "      <td>...</td>\n",
       "      <td>...</td>\n",
       "    </tr>\n",
       "    <tr>\n",
       "      <th>6997367</th>\n",
       "      <td>500812</td>\n",
       "      <td>186580</td>\n",
       "      <td>26577</td>\n",
       "      <td>20</td>\n",
       "      <td>1</td>\n",
       "      <td>19</td>\n",
       "    </tr>\n",
       "    <tr>\n",
       "      <th>6997368</th>\n",
       "      <td>4897929</td>\n",
       "      <td>11831</td>\n",
       "      <td>1305</td>\n",
       "      <td>20</td>\n",
       "      <td>6</td>\n",
       "      <td>8</td>\n",
       "    </tr>\n",
       "    <tr>\n",
       "      <th>6997369</th>\n",
       "      <td>3916280</td>\n",
       "      <td>255785</td>\n",
       "      <td>1332</td>\n",
       "      <td>20</td>\n",
       "      <td>5</td>\n",
       "      <td>14</td>\n",
       "    </tr>\n",
       "    <tr>\n",
       "      <th>6997370</th>\n",
       "      <td>2789100</td>\n",
       "      <td>64400</td>\n",
       "      <td>16263</td>\n",
       "      <td>20</td>\n",
       "      <td>4</td>\n",
       "      <td>9</td>\n",
       "    </tr>\n",
       "    <tr>\n",
       "      <th>6997371</th>\n",
       "      <td>7004536</td>\n",
       "      <td>91322</td>\n",
       "      <td>25534</td>\n",
       "      <td>20</td>\n",
       "      <td>7</td>\n",
       "      <td>28</td>\n",
       "    </tr>\n",
       "  </tbody>\n",
       "</table>\n",
       "<p>6997372 rows × 6 columns</p>\n",
       "</div>"
      ],
      "text/plain": [
       "         Unnamed: 0  customer_id  article_id  year  month  day\n",
       "0            479507       232477       28866    20      1   18\n",
       "1           5328148       306128        7094    20      6   18\n",
       "2           4779175        41132       12896    20      6    4\n",
       "3           4852517       189305       34181    20      6    6\n",
       "4           7130496       238987       18606    20      7   31\n",
       "...             ...          ...         ...   ...    ...  ...\n",
       "6997367      500812       186580       26577    20      1   19\n",
       "6997368     4897929        11831        1305    20      6    8\n",
       "6997369     3916280       255785        1332    20      5   14\n",
       "6997370     2789100        64400       16263    20      4    9\n",
       "6997371     7004536        91322       25534    20      7   28\n",
       "\n",
       "[6997372 rows x 6 columns]"
      ]
     },
     "execution_count": 2,
     "metadata": {},
     "output_type": "execute_result"
    }
   ],
   "source": [
    "device = torch.device('cuda' if torch.cuda.is_available() else 'cpu')\n",
    "transactions = pd.read_csv(\"data/train.csv\")\n",
    "transactions"
   ]
  },
  {
   "cell_type": "code",
   "execution_count": 3,
   "id": "3e41a8ce-0a1f-4fb8-b8c0-e5eb5d1a1e59",
   "metadata": {},
   "outputs": [
    {
     "data": {
      "text/plain": [
       "tensor([[232477, 306128,  41132,  ..., 255785,  64400,  91322],\n",
       "        [ 28866,   7094,  12896,  ...,   1332,  16263,  25534]])"
      ]
     },
     "execution_count": 3,
     "metadata": {},
     "output_type": "execute_result"
    }
   ],
   "source": [
    "# customers, articles = torch.LongTensor(transactions.customer_id), torch.LongTensor(transactions.article_id)\n",
    "# edge_index = torch.stack((torch.cat([customers, articles]), torch.cat([articles, customers])))\n",
    "# edge_index.shape\n",
    "edge_index = torch.LongTensor([transactions.customer_id, transactions.article_id])\n",
    "edge_index"
   ]
  },
  {
   "cell_type": "code",
   "execution_count": 4,
   "id": "ee8adfe4-2259-491a-8621-9b6419b70751",
   "metadata": {},
   "outputs": [],
   "source": [
    "test = pd.read_csv(\"data/test.csv\")\n",
    "edge_label_index = torch.LongTensor([test.customer_id, test.article_id])"
   ]
  },
  {
   "cell_type": "code",
   "execution_count": 5,
   "id": "1f9edd63-2bb7-476e-9533-a9d9f964073b",
   "metadata": {},
   "outputs": [],
   "source": [
    "from torch_geometric.data import HeteroData\n",
    "data = HeteroData()"
   ]
  },
  {
   "cell_type": "code",
   "execution_count": 6,
   "id": "560b9945-2dbf-4f2c-a569-998b8e6b784c",
   "metadata": {},
   "outputs": [],
   "source": [
    "data['customer', 'purchases', 'article'].edge_index = edge_index\n",
    "data['customer', 'purchases', 'article'].edge_label_index = edge_label_index"
   ]
  },
  {
   "cell_type": "code",
   "execution_count": 7,
   "id": "9a48510c-4720-43f5-91f6-5406164bf9ca",
   "metadata": {},
   "outputs": [],
   "source": [
    "data['article', 'purchased_by', 'customer'].edge_index = edge_index[[1,0]]"
   ]
  },
  {
   "cell_type": "code",
   "execution_count": 8,
   "id": "c4c7cdb4-e157-4fd3-993c-c31c4340320e",
   "metadata": {},
   "outputs": [
    {
     "name": "stdout",
     "output_type": "stream",
     "text": [
      "HeteroData(\n",
      "  (customer, purchases, article)={\n",
      "    edge_index=[2, 6997372],\n",
      "    edge_label_index=[2, 1749343],\n",
      "  },\n",
      "  (article, purchased_by, customer)={ edge_index=[2, 6997372] }\n",
      ")\n"
     ]
    }
   ],
   "source": [
    "print(data)"
   ]
  },
  {
   "cell_type": "code",
   "execution_count": 9,
   "id": "fcd98d24-687b-4e7a-b381-0425b7663ea2",
   "metadata": {},
   "outputs": [
    {
     "name": "stdout",
     "output_type": "stream",
     "text": [
      "tensor([[232477, 306128,  41132,  ..., 255785,  64400,  91322],\n",
      "        [ 28866,   7094,  12896,  ...,   1332,  16263,  25534]])\n",
      "tensor([[ 28866,   7094,  12896,  ...,   1332,  16263,  25534],\n",
      "        [232477, 306128,  41132,  ..., 255785,  64400,  91322]])\n"
     ]
    }
   ],
   "source": [
    "print(data['customer', 'purchases', 'article'].edge_index)\n",
    "print(data['article', 'purchased_by', 'customer'].edge_index)"
   ]
  },
  {
   "cell_type": "code",
   "execution_count": 10,
   "id": "60f8b338-537d-49a6-a65f-b0c701cd312a",
   "metadata": {},
   "outputs": [],
   "source": [
    "num_customers = transactions.customer_id.nunique()\n",
    "num_articles = transactions.article_id.nunique()"
   ]
  },
  {
   "cell_type": "code",
   "execution_count": 11,
   "id": "e647f9f3-56a8-43f3-b162-51e534ec9357",
   "metadata": {},
   "outputs": [],
   "source": [
    "data['customer'].num_nodes = num_customers\n",
    "data['article'].num_nodes = num_articles"
   ]
  },
  {
   "cell_type": "code",
   "execution_count": 12,
   "id": "9ec58956-3b02-4e0b-8c45-0d0b163fc05c",
   "metadata": {},
   "outputs": [
    {
     "name": "stdout",
     "output_type": "stream",
     "text": [
      "HeteroData(\n",
      "  customer={ num_nodes=343166 },\n",
      "  article={ num_nodes=36806 },\n",
      "  (customer, purchases, article)={\n",
      "    edge_index=[2, 6997372],\n",
      "    edge_label_index=[2, 1749343],\n",
      "  },\n",
      "  (article, purchased_by, customer)={ edge_index=[2, 6997372] }\n",
      ")\n"
     ]
    }
   ],
   "source": [
    "print(data)"
   ]
  },
  {
   "cell_type": "code",
   "execution_count": 13,
   "id": "c16e4a64-ce7f-4ec5-99af-69e6a615c3b5",
   "metadata": {},
   "outputs": [],
   "source": [
    "del(transactions)"
   ]
  },
  {
   "cell_type": "code",
   "execution_count": 14,
   "id": "7eb85812-9c2a-4f76-90e0-b55d7015081c",
   "metadata": {},
   "outputs": [
    {
     "name": "stdout",
     "output_type": "stream",
     "text": [
      "Data(edge_index=[2, 13994744], edge_label_index=[2, 1749343], node_type=[379972], edge_type=[13994744])\n"
     ]
    }
   ],
   "source": [
    "data = data.to_homogeneous().to(device)\n",
    "print(data)"
   ]
  },
  {
   "cell_type": "code",
   "execution_count": 15,
   "id": "87c63437-ef47-455a-b641-5f2645cf1bc0",
   "metadata": {},
   "outputs": [],
   "source": [
    "from torch_geometric.loader import DataLoader\n",
    "batch_size = 1024\n",
    "mask = data.edge_index[0] < data.edge_index[1]\n",
    "train_edge_label_index = data.edge_index[:, mask]\n",
    "# train_loader = torch.utils.data.DataLoader(\n",
    "train_loader = DataLoader(\n",
    "    range(train_edge_label_index.size(1)),\n",
    "    shuffle=True,\n",
    "    batch_size=batch_size,\n",
    ")"
   ]
  },
  {
   "cell_type": "code",
   "execution_count": 16,
   "id": "5894e9c7-9745-4b23-a134-56119ac64612",
   "metadata": {},
   "outputs": [
    {
     "name": "stdout",
     "output_type": "stream",
     "text": [
      "torch.Size([2, 13994744])\n"
     ]
    },
    {
     "data": {
      "text/plain": [
       "tensor([[232477, 306128,  41132,  ..., 344498, 359429, 368700],\n",
       "        [372032, 350260, 356062,  ..., 255785,  64400,  91322]],\n",
       "       device='cuda:0')"
      ]
     },
     "execution_count": 16,
     "metadata": {},
     "output_type": "execute_result"
    }
   ],
   "source": [
    "print(data.edge_index.shape)\n",
    "data.edge_index"
   ]
  },
  {
   "cell_type": "code",
   "execution_count": 17,
   "id": "8afbb92a-2d60-40a0-803e-ecc099e6d7a6",
   "metadata": {},
   "outputs": [
    {
     "name": "stdout",
     "output_type": "stream",
     "text": [
      "torch.Size([2, 6997372])\n"
     ]
    },
    {
     "data": {
      "text/plain": [
       "tensor([[232477, 306128,  41132,  ..., 255785,  64400,  91322],\n",
       "        [372032, 350260, 356062,  ..., 344498, 359429, 368700]],\n",
       "       device='cuda:0')"
      ]
     },
     "execution_count": 17,
     "metadata": {},
     "output_type": "execute_result"
    }
   ],
   "source": [
    "print(train_edge_label_index.shape)\n",
    "train_edge_label_index"
   ]
  },
  {
   "cell_type": "code",
   "execution_count": 18,
   "id": "ec5e05d5-34db-4c8e-9676-3093e699c1bc",
   "metadata": {},
   "outputs": [],
   "source": [
    "# import torch_geometric.transforms as T\n",
    "# data = T.ToSparseTensor(data)\n",
    "# print(data)"
   ]
  },
  {
   "cell_type": "code",
   "execution_count": 19,
   "id": "58b85bfc-d9be-4c1e-a62a-72d41c986404",
   "metadata": {},
   "outputs": [
    {
     "data": {
      "text/plain": [
       "tensor([ True,  True,  True,  ..., False, False, False], device='cuda:0')"
      ]
     },
     "execution_count": 19,
     "metadata": {},
     "output_type": "execute_result"
    }
   ],
   "source": [
    "mask"
   ]
  },
  {
   "cell_type": "code",
   "execution_count": 20,
   "id": "486e40ae-5719-4184-95c9-93a36fd85098",
   "metadata": {},
   "outputs": [
    {
     "data": {
      "text/plain": [
       "tensor(6997372, device='cuda:0')"
      ]
     },
     "execution_count": 20,
     "metadata": {},
     "output_type": "execute_result"
    }
   ],
   "source": [
    "mask.sum()"
   ]
  },
  {
   "cell_type": "code",
   "execution_count": 21,
   "id": "d70d0c1d-8045-4ca5-84fc-c1148e7e5da6",
   "metadata": {},
   "outputs": [
    {
     "data": {
      "text/plain": [
       "379972"
      ]
     },
     "execution_count": 21,
     "metadata": {},
     "output_type": "execute_result"
    }
   ],
   "source": [
    "data.num_nodes"
   ]
  },
  {
   "cell_type": "code",
   "execution_count": 22,
   "id": "4695dafa-2b9e-4169-96b7-075f71e100c7",
   "metadata": {},
   "outputs": [
    {
     "data": {
      "text/plain": [
       "tensor(379971, device='cuda:0')"
      ]
     },
     "execution_count": 22,
     "metadata": {},
     "output_type": "execute_result"
    }
   ],
   "source": [
    "data.edge_index[0].max()"
   ]
  },
  {
   "cell_type": "code",
   "execution_count": 23,
   "id": "c1c00cf0-8294-4f72-9ae5-47e8eb855c29",
   "metadata": {},
   "outputs": [],
   "source": [
    "model = LightGCN(\n",
    "    num_nodes=data.num_nodes,\n",
    "    embedding_dim=32,\n",
    "    num_layers=2,\n",
    ").to(device)\n",
    "optimizer = torch.optim.Adam(model.parameters(), lr=0.001)"
   ]
  },
  {
   "cell_type": "code",
   "execution_count": 24,
   "id": "52fc51f0-b259-49c4-b926-a2ff0b1d06d5",
   "metadata": {},
   "outputs": [],
   "source": [
    "def train():\n",
    "    total_loss = total_examples = 0\n",
    "\n",
    "    for index in tqdm(train_loader):\n",
    "        # Sample positive and negative labels.\n",
    "        pos_edge_label_index = train_edge_label_index[:, index]\n",
    "        # print(f\"pos:{pos_edge_label_index.shape}\\n\", pos_edge_label_index)\n",
    "        neg_edge_label_index = torch.stack([\n",
    "            pos_edge_label_index[0],\n",
    "            torch.randint(num_customers, num_customers + num_articles,\n",
    "                          (index.numel(), ), device=device)\n",
    "        ], dim=0)\n",
    "        # print(f\"neg:{neg_edge_label_index.shape}\\n\", neg_edge_label_index)\n",
    "        edge_label_index = torch.cat([\n",
    "            pos_edge_label_index,\n",
    "            neg_edge_label_index,\n",
    "        ], dim=1)\n",
    "        # print(f\"edge: {edge_label_index.shape}\\n\", edge_label_index)\n",
    "        exit()\n",
    "\n",
    "        optimizer.zero_grad()\n",
    "        pos_rank, neg_rank = model(data.edge_index, edge_label_index).chunk(2)\n",
    "\n",
    "        loss = model.recommendation_loss(\n",
    "            pos_rank,\n",
    "            neg_rank,\n",
    "            node_id=edge_label_index.unique(),\n",
    "        )\n",
    "        loss.backward()\n",
    "        optimizer.step()\n",
    "\n",
    "        total_loss += float(loss) * pos_rank.numel()\n",
    "        total_examples += pos_rank.numel()\n",
    "\n",
    "    return total_loss / total_examples"
   ]
  },
  {
   "cell_type": "code",
   "execution_count": 25,
   "id": "eb2af511-c88a-4da1-b2cd-056c0de2b220",
   "metadata": {},
   "outputs": [],
   "source": [
    "@torch.no_grad()\n",
    "def test(k: int):\n",
    "    emb = model.get_embedding(data.edge_index)\n",
    "    customer_emb, article_emb = emb[:num_customers], emb[num_customers:]\n",
    "\n",
    "    precision = recall = total_examples = 0\n",
    "    for start in range(0, num_customers, batch_size):\n",
    "        end = start + batch_size\n",
    "        logits = customer_emb[start:end] @ article_emb.t()\n",
    "\n",
    "        # Exclude training edges:\n",
    "        mask = ((train_edge_label_index[0] >= start) &\n",
    "                (train_edge_label_index[0] < end))\n",
    "        logits[train_edge_label_index[0, mask] - start,\n",
    "               train_edge_label_index[1, mask] - num_customers] = float('-inf')\n",
    "\n",
    "        # Computing precision and recall:\n",
    "        ground_truth = torch.zeros_like(logits, dtype=torch.bool)\n",
    "        mask = ((data.edge_label_index[0] >= start) &\n",
    "                (data.edge_label_index[0] < end))\n",
    "        ground_truth[data.edge_label_index[0, mask] - start,\n",
    "                     data.edge_label_index[1, mask] - num_customers] = True\n",
    "        node_count = degree(data.edge_label_index[0, mask] - start,\n",
    "                            num_nodes=logits.size(0))\n",
    "\n",
    "        topk_index = logits.topk(k, dim=-1).indices\n",
    "        isin_mat = ground_truth.gather(1, topk_index)\n",
    "\n",
    "        precision += float((isin_mat.sum(dim=-1) / k).sum())\n",
    "        recall += float((isin_mat.sum(dim=-1) / node_count.clamp(1e-6)).sum())\n",
    "        total_examples += int((node_count > 0).sum())\n",
    "\n",
    "    return precision / total_examples, recall / total_examples"
   ]
  },
  {
   "cell_type": "code",
   "execution_count": null,
   "id": "d967e623-cc18-4e46-9354-ad5b3b165d0a",
   "metadata": {
    "scrolled": true
   },
   "outputs": [
    {
     "name": "stderr",
     "output_type": "stream",
     "text": [
      "100%|███████████████████████████████████████| 6834/6834 [09:17<00:00, 12.26it/s]\n"
     ]
    },
    {
     "name": "stdout",
     "output_type": "stream",
     "text": [
      "Epoch: 001, Loss: 0.3752, Precision@20: 0.0032, Recall@20: 0.0137\n"
     ]
    },
    {
     "name": "stderr",
     "output_type": "stream",
     "text": [
      "100%|███████████████████████████████████████| 6834/6834 [09:15<00:00, 12.31it/s]\n"
     ]
    },
    {
     "name": "stdout",
     "output_type": "stream",
     "text": [
      "Epoch: 002, Loss: 0.3346, Precision@20: 0.0039, Recall@20: 0.0172\n"
     ]
    },
    {
     "name": "stderr",
     "output_type": "stream",
     "text": [
      "100%|███████████████████████████████████████| 6834/6834 [09:15<00:00, 12.30it/s]\n"
     ]
    },
    {
     "name": "stdout",
     "output_type": "stream",
     "text": [
      "Epoch: 003, Loss: 0.3046, Precision@20: 0.0044, Recall@20: 0.0191\n"
     ]
    },
    {
     "name": "stderr",
     "output_type": "stream",
     "text": [
      "100%|███████████████████████████████████████| 6834/6834 [09:15<00:00, 12.30it/s]\n"
     ]
    },
    {
     "name": "stdout",
     "output_type": "stream",
     "text": [
      "Epoch: 004, Loss: 0.2755, Precision@20: 0.0051, Recall@20: 0.0226\n"
     ]
    },
    {
     "name": "stderr",
     "output_type": "stream",
     "text": [
      "100%|███████████████████████████████████████| 6834/6834 [09:18<00:00, 12.24it/s]\n"
     ]
    },
    {
     "name": "stdout",
     "output_type": "stream",
     "text": [
      "Epoch: 005, Loss: 0.2417, Precision@20: 0.0058, Recall@20: 0.0259\n"
     ]
    },
    {
     "name": "stderr",
     "output_type": "stream",
     "text": [
      "100%|███████████████████████████████████████| 6834/6834 [09:18<00:00, 12.23it/s]\n"
     ]
    },
    {
     "name": "stdout",
     "output_type": "stream",
     "text": [
      "Epoch: 006, Loss: 0.2173, Precision@20: 0.0062, Recall@20: 0.0278\n"
     ]
    },
    {
     "name": "stderr",
     "output_type": "stream",
     "text": [
      " 73%|████████████████████████████▍          | 4987/6834 [06:47<02:30, 12.26it/s]"
     ]
    }
   ],
   "source": [
    "for epoch in range(1, 101):\n",
    "    loss = train()\n",
    "    precision, recall = test(k=20)\n",
    "    print(f'Epoch: {epoch:03d}, Loss: {loss:.4f}, Precision@20: '\n",
    "          f'{precision:.4f}, Recall@20: {recall:.4f}')"
   ]
  },
  {
   "cell_type": "markdown",
   "id": "c7c4c907-8cd5-4bed-945a-ac44f1f92af4",
   "metadata": {},
   "source": [
    "amazon = AmazonBook(\"./data\")\n",
    "amazon = amazon[0]"
   ]
  },
  {
   "cell_type": "markdown",
   "id": "4187e121-e24a-46a6-9e9f-d38f20984998",
   "metadata": {},
   "source": [
    "print(amazon)"
   ]
  },
  {
   "cell_type": "markdown",
   "id": "fad1b844-13b9-4167-b507-05576bacde66",
   "metadata": {},
   "source": [
    "print(data)"
   ]
  },
  {
   "cell_type": "markdown",
   "id": "b9bf14bd-5ce1-4ce0-acba-65a9874c1e4f",
   "metadata": {},
   "source": [
    "2380730\n",
    "13994744"
   ]
  },
  {
   "cell_type": "markdown",
   "id": "77c98f44-2a3e-41bc-b766-22e31d77aff1",
   "metadata": {},
   "source": [
    "amazon['user','rates','book'].edge_label_index"
   ]
  },
  {
   "cell_type": "code",
   "execution_count": null,
   "id": "b7945759-1ca7-43a1-9892-e01896f729fb",
   "metadata": {},
   "outputs": [],
   "source": []
  }
 ],
 "metadata": {
  "kernelspec": {
   "display_name": "Python 3 (ipykernel)",
   "language": "python",
   "name": "python3"
  },
  "language_info": {
   "codemirror_mode": {
    "name": "ipython",
    "version": 3
   },
   "file_extension": ".py",
   "mimetype": "text/x-python",
   "name": "python",
   "nbconvert_exporter": "python",
   "pygments_lexer": "ipython3",
   "version": "3.9.18"
  }
 },
 "nbformat": 4,
 "nbformat_minor": 5
}
