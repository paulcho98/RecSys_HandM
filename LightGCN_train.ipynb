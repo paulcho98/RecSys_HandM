{
 "cells": [
  {
   "cell_type": "code",
   "execution_count": 2,
   "id": "082accfb-fee5-4440-87aa-2fbf65dde970",
   "metadata": {},
   "outputs": [],
   "source": [
    "import os.path as osp\n",
    "\n",
    "import torch\n",
    "from tqdm import tqdm\n",
    "import pandas as pd\n",
    "\n",
    "from torch_geometric.datasets import AmazonBook\n",
    "from torch_geometric.nn import LightGCN\n",
    "from torch_geometric.utils import degree"
   ]
  },
  {
   "cell_type": "code",
   "execution_count": 3,
   "id": "ee888c5a-d60d-476f-9d3e-290026ab0697",
   "metadata": {},
   "outputs": [
    {
     "data": {
      "text/html": [
       "<div>\n",
       "<style scoped>\n",
       "    .dataframe tbody tr th:only-of-type {\n",
       "        vertical-align: middle;\n",
       "    }\n",
       "\n",
       "    .dataframe tbody tr th {\n",
       "        vertical-align: top;\n",
       "    }\n",
       "\n",
       "    .dataframe thead th {\n",
       "        text-align: right;\n",
       "    }\n",
       "</style>\n",
       "<table border=\"1\" class=\"dataframe\">\n",
       "  <thead>\n",
       "    <tr style=\"text-align: right;\">\n",
       "      <th></th>\n",
       "      <th>Unnamed: 0</th>\n",
       "      <th>customer_id</th>\n",
       "      <th>article_id</th>\n",
       "      <th>year</th>\n",
       "      <th>month</th>\n",
       "      <th>day</th>\n",
       "    </tr>\n",
       "  </thead>\n",
       "  <tbody>\n",
       "    <tr>\n",
       "      <th>0</th>\n",
       "      <td>479507</td>\n",
       "      <td>232477</td>\n",
       "      <td>28866</td>\n",
       "      <td>20</td>\n",
       "      <td>1</td>\n",
       "      <td>18</td>\n",
       "    </tr>\n",
       "    <tr>\n",
       "      <th>1</th>\n",
       "      <td>5328148</td>\n",
       "      <td>306128</td>\n",
       "      <td>7094</td>\n",
       "      <td>20</td>\n",
       "      <td>6</td>\n",
       "      <td>18</td>\n",
       "    </tr>\n",
       "    <tr>\n",
       "      <th>2</th>\n",
       "      <td>4779175</td>\n",
       "      <td>41132</td>\n",
       "      <td>12896</td>\n",
       "      <td>20</td>\n",
       "      <td>6</td>\n",
       "      <td>4</td>\n",
       "    </tr>\n",
       "    <tr>\n",
       "      <th>3</th>\n",
       "      <td>4852517</td>\n",
       "      <td>189305</td>\n",
       "      <td>34181</td>\n",
       "      <td>20</td>\n",
       "      <td>6</td>\n",
       "      <td>6</td>\n",
       "    </tr>\n",
       "    <tr>\n",
       "      <th>4</th>\n",
       "      <td>7130496</td>\n",
       "      <td>238987</td>\n",
       "      <td>18606</td>\n",
       "      <td>20</td>\n",
       "      <td>7</td>\n",
       "      <td>31</td>\n",
       "    </tr>\n",
       "    <tr>\n",
       "      <th>...</th>\n",
       "      <td>...</td>\n",
       "      <td>...</td>\n",
       "      <td>...</td>\n",
       "      <td>...</td>\n",
       "      <td>...</td>\n",
       "      <td>...</td>\n",
       "    </tr>\n",
       "    <tr>\n",
       "      <th>6997367</th>\n",
       "      <td>500812</td>\n",
       "      <td>186580</td>\n",
       "      <td>26577</td>\n",
       "      <td>20</td>\n",
       "      <td>1</td>\n",
       "      <td>19</td>\n",
       "    </tr>\n",
       "    <tr>\n",
       "      <th>6997368</th>\n",
       "      <td>4897929</td>\n",
       "      <td>11831</td>\n",
       "      <td>1305</td>\n",
       "      <td>20</td>\n",
       "      <td>6</td>\n",
       "      <td>8</td>\n",
       "    </tr>\n",
       "    <tr>\n",
       "      <th>6997369</th>\n",
       "      <td>3916280</td>\n",
       "      <td>255785</td>\n",
       "      <td>1332</td>\n",
       "      <td>20</td>\n",
       "      <td>5</td>\n",
       "      <td>14</td>\n",
       "    </tr>\n",
       "    <tr>\n",
       "      <th>6997370</th>\n",
       "      <td>2789100</td>\n",
       "      <td>64400</td>\n",
       "      <td>16263</td>\n",
       "      <td>20</td>\n",
       "      <td>4</td>\n",
       "      <td>9</td>\n",
       "    </tr>\n",
       "    <tr>\n",
       "      <th>6997371</th>\n",
       "      <td>7004536</td>\n",
       "      <td>91322</td>\n",
       "      <td>25534</td>\n",
       "      <td>20</td>\n",
       "      <td>7</td>\n",
       "      <td>28</td>\n",
       "    </tr>\n",
       "  </tbody>\n",
       "</table>\n",
       "<p>6997372 rows × 6 columns</p>\n",
       "</div>"
      ],
      "text/plain": [
       "         Unnamed: 0  customer_id  article_id  year  month  day\n",
       "0            479507       232477       28866    20      1   18\n",
       "1           5328148       306128        7094    20      6   18\n",
       "2           4779175        41132       12896    20      6    4\n",
       "3           4852517       189305       34181    20      6    6\n",
       "4           7130496       238987       18606    20      7   31\n",
       "...             ...          ...         ...   ...    ...  ...\n",
       "6997367      500812       186580       26577    20      1   19\n",
       "6997368     4897929        11831        1305    20      6    8\n",
       "6997369     3916280       255785        1332    20      5   14\n",
       "6997370     2789100        64400       16263    20      4    9\n",
       "6997371     7004536        91322       25534    20      7   28\n",
       "\n",
       "[6997372 rows x 6 columns]"
      ]
     },
     "execution_count": 3,
     "metadata": {},
     "output_type": "execute_result"
    }
   ],
   "source": [
    "device = torch.device('cuda' if torch.cuda.is_available() else 'cpu')\n",
    "transactions = pd.read_csv(\"data/train.csv\")\n",
    "transactions"
   ]
  },
  {
   "cell_type": "code",
   "execution_count": 4,
   "id": "3e41a8ce-0a1f-4fb8-b8c0-e5eb5d1a1e59",
   "metadata": {},
   "outputs": [
    {
     "data": {
      "text/plain": [
       "tensor([[232477, 306128,  41132,  ..., 255785,  64400,  91322],\n",
       "        [ 28866,   7094,  12896,  ...,   1332,  16263,  25534]])"
      ]
     },
     "execution_count": 4,
     "metadata": {},
     "output_type": "execute_result"
    }
   ],
   "source": [
    "# customers, articles = torch.LongTensor(transactions.customer_id), torch.LongTensor(transactions.article_id)\n",
    "# edge_index = torch.stack((torch.cat([customers, articles]), torch.cat([articles, customers])))\n",
    "# edge_index.shape\n",
    "edge_index = torch.LongTensor([transactions.customer_id, transactions.article_id])\n",
    "edge_index"
   ]
  },
  {
   "cell_type": "code",
   "execution_count": 5,
   "id": "ee8adfe4-2259-491a-8621-9b6419b70751",
   "metadata": {},
   "outputs": [],
   "source": [
    "test = pd.read_csv(\"data/test.csv\")\n",
    "edge_label_index = torch.LongTensor([test.customer_id, test.article_id])"
   ]
  },
  {
   "cell_type": "code",
   "execution_count": 6,
   "id": "1f9edd63-2bb7-476e-9533-a9d9f964073b",
   "metadata": {},
   "outputs": [],
   "source": [
    "from torch_geometric.data import HeteroData\n",
    "data = HeteroData()"
   ]
  },
  {
   "cell_type": "code",
   "execution_count": 7,
   "id": "560b9945-2dbf-4f2c-a569-998b8e6b784c",
   "metadata": {},
   "outputs": [],
   "source": [
    "data['customer', 'purchases', 'article'].edge_index = edge_index\n",
    "data['customer', 'purchases', 'article'].edge_label_index = edge_label_index"
   ]
  },
  {
   "cell_type": "code",
   "execution_count": 8,
   "id": "9a48510c-4720-43f5-91f6-5406164bf9ca",
   "metadata": {},
   "outputs": [],
   "source": [
    "data['article', 'purchased_by', 'customer'].edge_index = edge_index[[1,0]]"
   ]
  },
  {
   "cell_type": "code",
   "execution_count": 9,
   "id": "c4c7cdb4-e157-4fd3-993c-c31c4340320e",
   "metadata": {},
   "outputs": [
    {
     "name": "stdout",
     "output_type": "stream",
     "text": [
      "HeteroData(\n",
      "  (customer, purchases, article)={\n",
      "    edge_index=[2, 6997372],\n",
      "    edge_label_index=[2, 1749343],\n",
      "  },\n",
      "  (article, purchased_by, customer)={ edge_index=[2, 6997372] }\n",
      ")\n"
     ]
    }
   ],
   "source": [
    "print(data)"
   ]
  },
  {
   "cell_type": "code",
   "execution_count": 10,
   "id": "fcd98d24-687b-4e7a-b381-0425b7663ea2",
   "metadata": {},
   "outputs": [
    {
     "name": "stdout",
     "output_type": "stream",
     "text": [
      "tensor([[232477, 306128,  41132,  ..., 255785,  64400,  91322],\n",
      "        [ 28866,   7094,  12896,  ...,   1332,  16263,  25534]])\n",
      "tensor([[ 28866,   7094,  12896,  ...,   1332,  16263,  25534],\n",
      "        [232477, 306128,  41132,  ..., 255785,  64400,  91322]])\n"
     ]
    }
   ],
   "source": [
    "print(data['customer', 'purchases', 'article'].edge_index)\n",
    "print(data['article', 'purchased_by', 'customer'].edge_index)"
   ]
  },
  {
   "cell_type": "code",
   "execution_count": 11,
   "id": "60f8b338-537d-49a6-a65f-b0c701cd312a",
   "metadata": {},
   "outputs": [],
   "source": [
    "num_customers = transactions.customer_id.nunique()\n",
    "num_articles = transactions.article_id.nunique()"
   ]
  },
  {
   "cell_type": "code",
   "execution_count": 12,
   "id": "e647f9f3-56a8-43f3-b162-51e534ec9357",
   "metadata": {},
   "outputs": [],
   "source": [
    "data['customer'].num_nodes = num_customers\n",
    "data['article'].num_nodes = num_articles"
   ]
  },
  {
   "cell_type": "code",
   "execution_count": 13,
   "id": "9ec58956-3b02-4e0b-8c45-0d0b163fc05c",
   "metadata": {},
   "outputs": [
    {
     "name": "stdout",
     "output_type": "stream",
     "text": [
      "HeteroData(\n",
      "  customer={ num_nodes=343166 },\n",
      "  article={ num_nodes=36806 },\n",
      "  (customer, purchases, article)={\n",
      "    edge_index=[2, 6997372],\n",
      "    edge_label_index=[2, 1749343],\n",
      "  },\n",
      "  (article, purchased_by, customer)={ edge_index=[2, 6997372] }\n",
      ")\n"
     ]
    }
   ],
   "source": [
    "print(data)"
   ]
  },
  {
   "cell_type": "code",
   "execution_count": 14,
   "id": "c16e4a64-ce7f-4ec5-99af-69e6a615c3b5",
   "metadata": {},
   "outputs": [],
   "source": [
    "del(transactions)"
   ]
  },
  {
   "cell_type": "code",
   "execution_count": 15,
   "id": "7eb85812-9c2a-4f76-90e0-b55d7015081c",
   "metadata": {},
   "outputs": [
    {
     "name": "stdout",
     "output_type": "stream",
     "text": [
      "Data(edge_index=[2, 13994744], edge_label_index=[2, 1749343], node_type=[379972], edge_type=[13994744])\n"
     ]
    }
   ],
   "source": [
    "data = data.to_homogeneous().to(device)\n",
    "print(data)"
   ]
  },
  {
   "cell_type": "code",
   "execution_count": 16,
   "id": "87c63437-ef47-455a-b641-5f2645cf1bc0",
   "metadata": {},
   "outputs": [],
   "source": [
    "from torch_geometric.loader import DataLoader\n",
    "batch_size = 1024\n",
    "mask = data.edge_index[0] < data.edge_index[1]\n",
    "train_edge_label_index = data.edge_index[:, mask]\n",
    "# train_loader = torch.utils.data.DataLoader(\n",
    "train_loader = DataLoader(\n",
    "    range(train_edge_label_index.size(1)),\n",
    "    shuffle=True,\n",
    "    batch_size=batch_size,\n",
    ")"
   ]
  },
  {
   "cell_type": "code",
   "execution_count": 17,
   "id": "5894e9c7-9745-4b23-a134-56119ac64612",
   "metadata": {},
   "outputs": [
    {
     "name": "stdout",
     "output_type": "stream",
     "text": [
      "torch.Size([2, 13994744])\n"
     ]
    },
    {
     "data": {
      "text/plain": [
       "tensor([[232477, 306128,  41132,  ..., 344498, 359429, 368700],\n",
       "        [372032, 350260, 356062,  ..., 255785,  64400,  91322]],\n",
       "       device='cuda:0')"
      ]
     },
     "execution_count": 17,
     "metadata": {},
     "output_type": "execute_result"
    }
   ],
   "source": [
    "print(data.edge_index.shape)\n",
    "data.edge_index"
   ]
  },
  {
   "cell_type": "code",
   "execution_count": 18,
   "id": "8afbb92a-2d60-40a0-803e-ecc099e6d7a6",
   "metadata": {},
   "outputs": [
    {
     "name": "stdout",
     "output_type": "stream",
     "text": [
      "torch.Size([2, 6997372])\n"
     ]
    },
    {
     "data": {
      "text/plain": [
       "tensor([[232477, 306128,  41132,  ..., 255785,  64400,  91322],\n",
       "        [372032, 350260, 356062,  ..., 344498, 359429, 368700]],\n",
       "       device='cuda:0')"
      ]
     },
     "execution_count": 18,
     "metadata": {},
     "output_type": "execute_result"
    }
   ],
   "source": [
    "print(train_edge_label_index.shape)\n",
    "train_edge_label_index"
   ]
  },
  {
   "cell_type": "code",
   "execution_count": 19,
   "id": "ec5e05d5-34db-4c8e-9676-3093e699c1bc",
   "metadata": {},
   "outputs": [],
   "source": [
    "# import torch_geometric.transforms as T\n",
    "# data = T.ToSparseTensor(data)\n",
    "# print(data)"
   ]
  },
  {
   "cell_type": "code",
   "execution_count": 20,
   "id": "58b85bfc-d9be-4c1e-a62a-72d41c986404",
   "metadata": {},
   "outputs": [
    {
     "data": {
      "text/plain": [
       "tensor([ True,  True,  True,  ..., False, False, False], device='cuda:0')"
      ]
     },
     "execution_count": 20,
     "metadata": {},
     "output_type": "execute_result"
    }
   ],
   "source": [
    "mask"
   ]
  },
  {
   "cell_type": "code",
   "execution_count": 21,
   "id": "486e40ae-5719-4184-95c9-93a36fd85098",
   "metadata": {},
   "outputs": [
    {
     "data": {
      "text/plain": [
       "tensor(6997372, device='cuda:0')"
      ]
     },
     "execution_count": 21,
     "metadata": {},
     "output_type": "execute_result"
    }
   ],
   "source": [
    "mask.sum()"
   ]
  },
  {
   "cell_type": "code",
   "execution_count": 22,
   "id": "d70d0c1d-8045-4ca5-84fc-c1148e7e5da6",
   "metadata": {},
   "outputs": [
    {
     "data": {
      "text/plain": [
       "379972"
      ]
     },
     "execution_count": 22,
     "metadata": {},
     "output_type": "execute_result"
    }
   ],
   "source": [
    "data.num_nodes"
   ]
  },
  {
   "cell_type": "code",
   "execution_count": 23,
   "id": "4695dafa-2b9e-4169-96b7-075f71e100c7",
   "metadata": {},
   "outputs": [
    {
     "data": {
      "text/plain": [
       "tensor(379971, device='cuda:0')"
      ]
     },
     "execution_count": 23,
     "metadata": {},
     "output_type": "execute_result"
    }
   ],
   "source": [
    "data.edge_index[0].max()"
   ]
  },
  {
   "cell_type": "code",
   "execution_count": 24,
   "id": "c1c00cf0-8294-4f72-9ae5-47e8eb855c29",
   "metadata": {},
   "outputs": [],
   "source": [
    "model = LightGCN(\n",
    "    num_nodes=data.num_nodes,\n",
    "    embedding_dim=32,\n",
    "    num_layers=2,\n",
    ").to(device)\n",
    "optimizer = torch.optim.Adam(model.parameters(), lr=0.001)"
   ]
  },
  {
   "cell_type": "code",
   "execution_count": 25,
   "id": "52fc51f0-b259-49c4-b926-a2ff0b1d06d5",
   "metadata": {},
   "outputs": [],
   "source": [
    "def train():\n",
    "    total_loss = total_examples = 0\n",
    "\n",
    "    for index in tqdm(train_loader):\n",
    "        # Sample positive and negative labels.\n",
    "        pos_edge_label_index = train_edge_label_index[:, index]\n",
    "        # print(f\"pos:{pos_edge_label_index.shape}\\n\", pos_edge_label_index)\n",
    "        neg_edge_label_index = torch.stack([\n",
    "            pos_edge_label_index[0],\n",
    "            torch.randint(num_customers, num_customers + num_articles,\n",
    "                          (index.numel(), ), device=device)\n",
    "        ], dim=0)\n",
    "        # print(f\"neg:{neg_edge_label_index.shape}\\n\", neg_edge_label_index)\n",
    "        edge_label_index = torch.cat([\n",
    "            pos_edge_label_index,\n",
    "            neg_edge_label_index,\n",
    "        ], dim=1)\n",
    "        # print(f\"edge: {edge_label_index.shape}\\n\", edge_label_index)\n",
    "\n",
    "        optimizer.zero_grad()\n",
    "        pos_rank, neg_rank = model(data.edge_index, edge_label_index).chunk(2)\n",
    "\n",
    "        loss = model.recommendation_loss(\n",
    "            pos_rank,\n",
    "            neg_rank,\n",
    "            node_id=edge_label_index.unique(),\n",
    "        )\n",
    "        loss.backward()\n",
    "        optimizer.step()\n",
    "\n",
    "        total_loss += float(loss) * pos_rank.numel()\n",
    "        total_examples += pos_rank.numel()\n",
    "\n",
    "    return total_loss / total_examples"
   ]
  },
  {
   "cell_type": "code",
   "execution_count": 26,
   "id": "eb2af511-c88a-4da1-b2cd-056c0de2b220",
   "metadata": {},
   "outputs": [],
   "source": [
    "@torch.no_grad()\n",
    "def test(k: int):\n",
    "    emb = model.get_embedding(data.edge_index)\n",
    "    customer_emb, article_emb = emb[:num_customers], emb[num_customers:]\n",
    "\n",
    "    precision = recall = total_examples = 0\n",
    "    for start in range(0, num_customers, batch_size):\n",
    "        end = start + batch_size\n",
    "        logits = customer_emb[start:end] @ article_emb.t()\n",
    "\n",
    "        # Exclude training edges:\n",
    "        mask = ((train_edge_label_index[0] >= start) &\n",
    "                (train_edge_label_index[0] < end))\n",
    "        logits[train_edge_label_index[0, mask] - start,\n",
    "               train_edge_label_index[1, mask] - num_customers] = float('-inf')\n",
    "\n",
    "        # Computing precision and recall:\n",
    "        ground_truth = torch.zeros_like(logits, dtype=torch.bool)\n",
    "        mask = ((data.edge_label_index[0] >= start) &\n",
    "                (data.edge_label_index[0] < end))\n",
    "        ground_truth[data.edge_label_index[0, mask] - start,\n",
    "                     data.edge_label_index[1, mask] - num_customers] = True\n",
    "        node_count = degree(data.edge_label_index[0, mask] - start,\n",
    "                            num_nodes=logits.size(0))\n",
    "\n",
    "        topk_index = logits.topk(k, dim=-1).indices\n",
    "        isin_mat = ground_truth.gather(1, topk_index)\n",
    "\n",
    "        precision += float((isin_mat.sum(dim=-1) / k).sum())\n",
    "        recall += float((isin_mat.sum(dim=-1) / node_count.clamp(1e-6)).sum())\n",
    "        total_examples += int((node_count > 0).sum())\n",
    "\n",
    "    return precision / total_examples, recall / total_examples"
   ]
  },
  {
   "cell_type": "code",
   "execution_count": 27,
   "id": "d967e623-cc18-4e46-9354-ad5b3b165d0a",
   "metadata": {
    "scrolled": true
   },
   "outputs": [
    {
     "name": "stderr",
     "output_type": "stream",
     "text": [
      "100%|██████████| 6834/6834 [09:27<00:00, 12.05it/s]\n"
     ]
    },
    {
     "name": "stdout",
     "output_type": "stream",
     "text": [
      "Epoch: 001, Loss: 0.3758, Precision@20: 0.0031, Recall@20: 0.0136\n"
     ]
    },
    {
     "name": "stderr",
     "output_type": "stream",
     "text": [
      "100%|██████████| 6834/6834 [09:27<00:00, 12.04it/s]\n"
     ]
    },
    {
     "name": "stdout",
     "output_type": "stream",
     "text": [
      "Epoch: 002, Loss: 0.3371, Precision@20: 0.0038, Recall@20: 0.0168\n"
     ]
    },
    {
     "name": "stderr",
     "output_type": "stream",
     "text": [
      "100%|██████████| 6834/6834 [09:27<00:00, 12.03it/s]\n"
     ]
    },
    {
     "name": "stdout",
     "output_type": "stream",
     "text": [
      "Epoch: 003, Loss: 0.3068, Precision@20: 0.0043, Recall@20: 0.0190\n"
     ]
    },
    {
     "name": "stderr",
     "output_type": "stream",
     "text": [
      "100%|██████████| 6834/6834 [09:24<00:00, 12.11it/s]\n"
     ]
    },
    {
     "name": "stdout",
     "output_type": "stream",
     "text": [
      "Epoch: 004, Loss: 0.2791, Precision@20: 0.0050, Recall@20: 0.0218\n"
     ]
    },
    {
     "name": "stderr",
     "output_type": "stream",
     "text": [
      "100%|██████████| 6834/6834 [09:19<00:00, 12.21it/s]\n"
     ]
    },
    {
     "name": "stdout",
     "output_type": "stream",
     "text": [
      "Epoch: 005, Loss: 0.2471, Precision@20: 0.0057, Recall@20: 0.0251\n"
     ]
    },
    {
     "name": "stderr",
     "output_type": "stream",
     "text": [
      "100%|██████████| 6834/6834 [09:28<00:00, 12.03it/s]\n"
     ]
    },
    {
     "name": "stdout",
     "output_type": "stream",
     "text": [
      "Epoch: 006, Loss: 0.2214, Precision@20: 0.0062, Recall@20: 0.0275\n"
     ]
    },
    {
     "name": "stderr",
     "output_type": "stream",
     "text": [
      "100%|██████████| 6834/6834 [09:28<00:00, 12.03it/s]\n"
     ]
    },
    {
     "name": "stdout",
     "output_type": "stream",
     "text": [
      "Epoch: 007, Loss: 0.2049, Precision@20: 0.0065, Recall@20: 0.0291\n"
     ]
    },
    {
     "name": "stderr",
     "output_type": "stream",
     "text": [
      "100%|██████████| 6834/6834 [09:27<00:00, 12.03it/s]\n"
     ]
    },
    {
     "name": "stdout",
     "output_type": "stream",
     "text": [
      "Epoch: 008, Loss: 0.1923, Precision@20: 0.0068, Recall@20: 0.0305\n"
     ]
    },
    {
     "name": "stderr",
     "output_type": "stream",
     "text": [
      "100%|██████████| 6834/6834 [09:16<00:00, 12.29it/s]\n"
     ]
    },
    {
     "name": "stdout",
     "output_type": "stream",
     "text": [
      "Epoch: 009, Loss: 0.1816, Precision@20: 0.0071, Recall@20: 0.0319\n"
     ]
    },
    {
     "name": "stderr",
     "output_type": "stream",
     "text": [
      "100%|██████████| 6834/6834 [09:27<00:00, 12.04it/s]\n"
     ]
    },
    {
     "name": "stdout",
     "output_type": "stream",
     "text": [
      "Epoch: 010, Loss: 0.1720, Precision@20: 0.0074, Recall@20: 0.0333\n"
     ]
    },
    {
     "name": "stderr",
     "output_type": "stream",
     "text": [
      "100%|██████████| 6834/6834 [09:18<00:00, 12.23it/s]\n"
     ]
    },
    {
     "name": "stdout",
     "output_type": "stream",
     "text": [
      "Epoch: 011, Loss: 0.1635, Precision@20: 0.0077, Recall@20: 0.0348\n"
     ]
    },
    {
     "name": "stderr",
     "output_type": "stream",
     "text": [
      "100%|██████████| 6834/6834 [09:09<00:00, 12.44it/s]\n"
     ]
    },
    {
     "name": "stdout",
     "output_type": "stream",
     "text": [
      "Epoch: 012, Loss: 0.1559, Precision@20: 0.0080, Recall@20: 0.0361\n"
     ]
    },
    {
     "name": "stderr",
     "output_type": "stream",
     "text": [
      "100%|██████████| 6834/6834 [09:09<00:00, 12.44it/s]\n"
     ]
    },
    {
     "name": "stdout",
     "output_type": "stream",
     "text": [
      "Epoch: 013, Loss: 0.1491, Precision@20: 0.0082, Recall@20: 0.0372\n"
     ]
    },
    {
     "name": "stderr",
     "output_type": "stream",
     "text": [
      "100%|██████████| 6834/6834 [09:09<00:00, 12.44it/s]\n"
     ]
    },
    {
     "name": "stdout",
     "output_type": "stream",
     "text": [
      "Epoch: 014, Loss: 0.1429, Precision@20: 0.0084, Recall@20: 0.0383\n"
     ]
    },
    {
     "name": "stderr",
     "output_type": "stream",
     "text": [
      "100%|██████████| 6834/6834 [09:09<00:00, 12.44it/s]\n"
     ]
    },
    {
     "name": "stdout",
     "output_type": "stream",
     "text": [
      "Epoch: 015, Loss: 0.1370, Precision@20: 0.0087, Recall@20: 0.0394\n"
     ]
    },
    {
     "name": "stderr",
     "output_type": "stream",
     "text": [
      "100%|██████████| 6834/6834 [09:22<00:00, 12.14it/s]\n"
     ]
    },
    {
     "name": "stdout",
     "output_type": "stream",
     "text": [
      "Epoch: 016, Loss: 0.1318, Precision@20: 0.0089, Recall@20: 0.0406\n"
     ]
    },
    {
     "name": "stderr",
     "output_type": "stream",
     "text": [
      "100%|██████████| 6834/6834 [09:28<00:00, 12.02it/s]\n"
     ]
    },
    {
     "name": "stdout",
     "output_type": "stream",
     "text": [
      "Epoch: 017, Loss: 0.1266, Precision@20: 0.0090, Recall@20: 0.0412\n"
     ]
    },
    {
     "name": "stderr",
     "output_type": "stream",
     "text": [
      "100%|██████████| 6834/6834 [09:29<00:00, 12.01it/s]\n"
     ]
    },
    {
     "name": "stdout",
     "output_type": "stream",
     "text": [
      "Epoch: 018, Loss: 0.1225, Precision@20: 0.0092, Recall@20: 0.0420\n"
     ]
    },
    {
     "name": "stderr",
     "output_type": "stream",
     "text": [
      "100%|██████████| 6834/6834 [09:28<00:00, 12.01it/s]\n"
     ]
    },
    {
     "name": "stdout",
     "output_type": "stream",
     "text": [
      "Epoch: 019, Loss: 0.1180, Precision@20: 0.0094, Recall@20: 0.0430\n"
     ]
    },
    {
     "name": "stderr",
     "output_type": "stream",
     "text": [
      "100%|██████████| 6834/6834 [09:17<00:00, 12.26it/s]\n"
     ]
    },
    {
     "name": "stdout",
     "output_type": "stream",
     "text": [
      "Epoch: 020, Loss: 0.1142, Precision@20: 0.0095, Recall@20: 0.0436\n"
     ]
    },
    {
     "name": "stderr",
     "output_type": "stream",
     "text": [
      "100%|██████████| 6834/6834 [09:29<00:00, 12.01it/s]\n"
     ]
    },
    {
     "name": "stdout",
     "output_type": "stream",
     "text": [
      "Epoch: 021, Loss: 0.1105, Precision@20: 0.0097, Recall@20: 0.0444\n"
     ]
    },
    {
     "name": "stderr",
     "output_type": "stream",
     "text": [
      "100%|██████████| 6834/6834 [09:29<00:00, 12.01it/s]\n"
     ]
    },
    {
     "name": "stdout",
     "output_type": "stream",
     "text": [
      "Epoch: 022, Loss: 0.1073, Precision@20: 0.0098, Recall@20: 0.0450\n"
     ]
    },
    {
     "name": "stderr",
     "output_type": "stream",
     "text": [
      "100%|██████████| 6834/6834 [09:29<00:00, 12.01it/s]\n"
     ]
    },
    {
     "name": "stdout",
     "output_type": "stream",
     "text": [
      "Epoch: 023, Loss: 0.1036, Precision@20: 0.0099, Recall@20: 0.0455\n"
     ]
    },
    {
     "name": "stderr",
     "output_type": "stream",
     "text": [
      "100%|██████████| 6834/6834 [09:29<00:00, 12.00it/s]\n"
     ]
    },
    {
     "name": "stdout",
     "output_type": "stream",
     "text": [
      "Epoch: 024, Loss: 0.1010, Precision@20: 0.0100, Recall@20: 0.0460\n"
     ]
    },
    {
     "name": "stderr",
     "output_type": "stream",
     "text": [
      "100%|██████████| 6834/6834 [09:17<00:00, 12.25it/s]\n"
     ]
    },
    {
     "name": "stdout",
     "output_type": "stream",
     "text": [
      "Epoch: 025, Loss: 0.0980, Precision@20: 0.0101, Recall@20: 0.0464\n"
     ]
    },
    {
     "name": "stderr",
     "output_type": "stream",
     "text": [
      "100%|██████████| 6834/6834 [09:29<00:00, 12.01it/s]\n"
     ]
    },
    {
     "name": "stdout",
     "output_type": "stream",
     "text": [
      "Epoch: 026, Loss: 0.0959, Precision@20: 0.0102, Recall@20: 0.0469\n"
     ]
    },
    {
     "name": "stderr",
     "output_type": "stream",
     "text": [
      "100%|██████████| 6834/6834 [09:16<00:00, 12.29it/s]\n"
     ]
    },
    {
     "name": "stdout",
     "output_type": "stream",
     "text": [
      "Epoch: 027, Loss: 0.0934, Precision@20: 0.0102, Recall@20: 0.0472\n"
     ]
    },
    {
     "name": "stderr",
     "output_type": "stream",
     "text": [
      "100%|██████████| 6834/6834 [09:29<00:00, 12.01it/s]\n"
     ]
    },
    {
     "name": "stdout",
     "output_type": "stream",
     "text": [
      "Epoch: 028, Loss: 0.0912, Precision@20: 0.0104, Recall@20: 0.0477\n"
     ]
    },
    {
     "name": "stderr",
     "output_type": "stream",
     "text": [
      "100%|██████████| 6834/6834 [09:22<00:00, 12.15it/s]\n"
     ]
    },
    {
     "name": "stdout",
     "output_type": "stream",
     "text": [
      "Epoch: 029, Loss: 0.0890, Precision@20: 0.0104, Recall@20: 0.0477\n"
     ]
    },
    {
     "name": "stderr",
     "output_type": "stream",
     "text": [
      "100%|██████████| 6834/6834 [09:29<00:00, 12.01it/s]\n"
     ]
    },
    {
     "name": "stdout",
     "output_type": "stream",
     "text": [
      "Epoch: 030, Loss: 0.0871, Precision@20: 0.0104, Recall@20: 0.0479\n"
     ]
    },
    {
     "name": "stderr",
     "output_type": "stream",
     "text": [
      "100%|██████████| 6834/6834 [09:16<00:00, 12.28it/s]\n"
     ]
    },
    {
     "name": "stdout",
     "output_type": "stream",
     "text": [
      "Epoch: 031, Loss: 0.0855, Precision@20: 0.0104, Recall@20: 0.0480\n"
     ]
    },
    {
     "name": "stderr",
     "output_type": "stream",
     "text": [
      "100%|██████████| 6834/6834 [09:29<00:00, 12.00it/s]\n"
     ]
    },
    {
     "name": "stdout",
     "output_type": "stream",
     "text": [
      "Epoch: 032, Loss: 0.0836, Precision@20: 0.0104, Recall@20: 0.0481\n"
     ]
    },
    {
     "name": "stderr",
     "output_type": "stream",
     "text": [
      "100%|██████████| 6834/6834 [09:29<00:00, 12.00it/s]\n"
     ]
    },
    {
     "name": "stdout",
     "output_type": "stream",
     "text": [
      "Epoch: 033, Loss: 0.0824, Precision@20: 0.0104, Recall@20: 0.0480\n"
     ]
    },
    {
     "name": "stderr",
     "output_type": "stream",
     "text": [
      "100%|██████████| 6834/6834 [09:28<00:00, 12.02it/s]\n"
     ]
    },
    {
     "name": "stdout",
     "output_type": "stream",
     "text": [
      "Epoch: 034, Loss: 0.0809, Precision@20: 0.0105, Recall@20: 0.0483\n"
     ]
    },
    {
     "name": "stderr",
     "output_type": "stream",
     "text": [
      "100%|██████████| 6834/6834 [09:29<00:00, 12.01it/s]\n"
     ]
    },
    {
     "name": "stdout",
     "output_type": "stream",
     "text": [
      "Epoch: 035, Loss: 0.0796, Precision@20: 0.0105, Recall@20: 0.0481\n"
     ]
    },
    {
     "name": "stderr",
     "output_type": "stream",
     "text": [
      "100%|██████████| 6834/6834 [09:29<00:00, 12.01it/s]\n"
     ]
    },
    {
     "name": "stdout",
     "output_type": "stream",
     "text": [
      "Epoch: 036, Loss: 0.0784, Precision@20: 0.0104, Recall@20: 0.0481\n"
     ]
    },
    {
     "name": "stderr",
     "output_type": "stream",
     "text": [
      "100%|██████████| 6834/6834 [09:29<00:00, 12.01it/s]\n"
     ]
    },
    {
     "name": "stdout",
     "output_type": "stream",
     "text": [
      "Epoch: 037, Loss: 0.0774, Precision@20: 0.0105, Recall@20: 0.0480\n"
     ]
    },
    {
     "name": "stderr",
     "output_type": "stream",
     "text": [
      "100%|██████████| 6834/6834 [09:29<00:00, 12.01it/s]\n"
     ]
    },
    {
     "name": "stdout",
     "output_type": "stream",
     "text": [
      "Epoch: 038, Loss: 0.0764, Precision@20: 0.0104, Recall@20: 0.0479\n"
     ]
    },
    {
     "name": "stderr",
     "output_type": "stream",
     "text": [
      "100%|██████████| 6834/6834 [09:28<00:00, 12.01it/s]\n"
     ]
    },
    {
     "name": "stdout",
     "output_type": "stream",
     "text": [
      "Epoch: 039, Loss: 0.0753, Precision@20: 0.0104, Recall@20: 0.0477\n"
     ]
    },
    {
     "name": "stderr",
     "output_type": "stream",
     "text": [
      "100%|██████████| 6834/6834 [09:28<00:00, 12.02it/s]\n"
     ]
    },
    {
     "name": "stdout",
     "output_type": "stream",
     "text": [
      "Epoch: 040, Loss: 0.0742, Precision@20: 0.0104, Recall@20: 0.0477\n"
     ]
    },
    {
     "name": "stderr",
     "output_type": "stream",
     "text": [
      "100%|██████████| 6834/6834 [09:28<00:00, 12.02it/s]\n"
     ]
    },
    {
     "name": "stdout",
     "output_type": "stream",
     "text": [
      "Epoch: 041, Loss: 0.0736, Precision@20: 0.0104, Recall@20: 0.0476\n"
     ]
    },
    {
     "name": "stderr",
     "output_type": "stream",
     "text": [
      "100%|██████████| 6834/6834 [09:28<00:00, 12.02it/s]\n"
     ]
    },
    {
     "name": "stdout",
     "output_type": "stream",
     "text": [
      "Epoch: 042, Loss: 0.0730, Precision@20: 0.0103, Recall@20: 0.0474\n"
     ]
    },
    {
     "name": "stderr",
     "output_type": "stream",
     "text": [
      "100%|██████████| 6834/6834 [09:28<00:00, 12.02it/s]\n"
     ]
    },
    {
     "name": "stdout",
     "output_type": "stream",
     "text": [
      "Epoch: 043, Loss: 0.0722, Precision@20: 0.0103, Recall@20: 0.0473\n"
     ]
    },
    {
     "name": "stderr",
     "output_type": "stream",
     "text": [
      "100%|██████████| 6834/6834 [09:28<00:00, 12.02it/s]\n"
     ]
    },
    {
     "name": "stdout",
     "output_type": "stream",
     "text": [
      "Epoch: 044, Loss: 0.0717, Precision@20: 0.0103, Recall@20: 0.0471\n"
     ]
    },
    {
     "name": "stderr",
     "output_type": "stream",
     "text": [
      "100%|██████████| 6834/6834 [09:28<00:00, 12.02it/s]\n"
     ]
    },
    {
     "name": "stdout",
     "output_type": "stream",
     "text": [
      "Epoch: 045, Loss: 0.0712, Precision@20: 0.0102, Recall@20: 0.0470\n"
     ]
    },
    {
     "name": "stderr",
     "output_type": "stream",
     "text": [
      "100%|██████████| 6834/6834 [09:28<00:00, 12.02it/s]\n"
     ]
    },
    {
     "name": "stdout",
     "output_type": "stream",
     "text": [
      "Epoch: 046, Loss: 0.0707, Precision@20: 0.0102, Recall@20: 0.0468\n"
     ]
    },
    {
     "name": "stderr",
     "output_type": "stream",
     "text": [
      "100%|██████████| 6834/6834 [09:28<00:00, 12.03it/s]\n"
     ]
    },
    {
     "name": "stdout",
     "output_type": "stream",
     "text": [
      "Epoch: 047, Loss: 0.0700, Precision@20: 0.0101, Recall@20: 0.0466\n"
     ]
    },
    {
     "name": "stderr",
     "output_type": "stream",
     "text": [
      "100%|██████████| 6834/6834 [09:28<00:00, 12.03it/s]\n"
     ]
    },
    {
     "name": "stdout",
     "output_type": "stream",
     "text": [
      "Epoch: 048, Loss: 0.0696, Precision@20: 0.0101, Recall@20: 0.0464\n"
     ]
    },
    {
     "name": "stderr",
     "output_type": "stream",
     "text": [
      "100%|██████████| 6834/6834 [09:28<00:00, 12.03it/s]\n"
     ]
    },
    {
     "name": "stdout",
     "output_type": "stream",
     "text": [
      "Epoch: 049, Loss: 0.0692, Precision@20: 0.0101, Recall@20: 0.0463\n"
     ]
    },
    {
     "name": "stderr",
     "output_type": "stream",
     "text": [
      "100%|██████████| 6834/6834 [09:28<00:00, 12.03it/s]\n"
     ]
    },
    {
     "name": "stdout",
     "output_type": "stream",
     "text": [
      "Epoch: 050, Loss: 0.0688, Precision@20: 0.0101, Recall@20: 0.0461\n"
     ]
    },
    {
     "name": "stderr",
     "output_type": "stream",
     "text": [
      "100%|██████████| 6834/6834 [09:28<00:00, 12.03it/s]\n"
     ]
    },
    {
     "name": "stdout",
     "output_type": "stream",
     "text": [
      "Epoch: 051, Loss: 0.0683, Precision@20: 0.0100, Recall@20: 0.0460\n"
     ]
    },
    {
     "name": "stderr",
     "output_type": "stream",
     "text": [
      "100%|██████████| 6834/6834 [09:28<00:00, 12.03it/s]\n"
     ]
    },
    {
     "name": "stdout",
     "output_type": "stream",
     "text": [
      "Epoch: 052, Loss: 0.0677, Precision@20: 0.0100, Recall@20: 0.0457\n"
     ]
    },
    {
     "name": "stderr",
     "output_type": "stream",
     "text": [
      "100%|██████████| 6834/6834 [09:34<00:00, 11.89it/s]\n"
     ]
    },
    {
     "name": "stdout",
     "output_type": "stream",
     "text": [
      "Epoch: 053, Loss: 0.0676, Precision@20: 0.0100, Recall@20: 0.0456\n"
     ]
    },
    {
     "name": "stderr",
     "output_type": "stream",
     "text": [
      " 98%|█████████▊| 6672/6834 [09:12<00:13, 12.09it/s]\n"
     ]
    },
    {
     "ename": "KeyboardInterrupt",
     "evalue": "",
     "output_type": "error",
     "traceback": [
      "\u001b[0;31m---------------------------------------------------------------------------\u001b[0m",
      "\u001b[0;31mKeyboardInterrupt\u001b[0m                         Traceback (most recent call last)",
      "Cell \u001b[0;32mIn[27], line 2\u001b[0m\n\u001b[1;32m      1\u001b[0m \u001b[38;5;28;01mfor\u001b[39;00m epoch \u001b[38;5;129;01min\u001b[39;00m \u001b[38;5;28mrange\u001b[39m(\u001b[38;5;241m1\u001b[39m, \u001b[38;5;241m101\u001b[39m):\n\u001b[0;32m----> 2\u001b[0m     loss \u001b[38;5;241m=\u001b[39m \u001b[43mtrain\u001b[49m\u001b[43m(\u001b[49m\u001b[43m)\u001b[49m\n\u001b[1;32m      3\u001b[0m     precision, recall \u001b[38;5;241m=\u001b[39m test(k\u001b[38;5;241m=\u001b[39m\u001b[38;5;241m20\u001b[39m)\n\u001b[1;32m      4\u001b[0m     \u001b[38;5;28mprint\u001b[39m(\u001b[38;5;124mf\u001b[39m\u001b[38;5;124m'\u001b[39m\u001b[38;5;124mEpoch: \u001b[39m\u001b[38;5;132;01m{\u001b[39;00mepoch\u001b[38;5;132;01m:\u001b[39;00m\u001b[38;5;124m03d\u001b[39m\u001b[38;5;132;01m}\u001b[39;00m\u001b[38;5;124m, Loss: \u001b[39m\u001b[38;5;132;01m{\u001b[39;00mloss\u001b[38;5;132;01m:\u001b[39;00m\u001b[38;5;124m.4f\u001b[39m\u001b[38;5;132;01m}\u001b[39;00m\u001b[38;5;124m, Precision@20: \u001b[39m\u001b[38;5;124m'\u001b[39m\n\u001b[1;32m      5\u001b[0m           \u001b[38;5;124mf\u001b[39m\u001b[38;5;124m'\u001b[39m\u001b[38;5;132;01m{\u001b[39;00mprecision\u001b[38;5;132;01m:\u001b[39;00m\u001b[38;5;124m.4f\u001b[39m\u001b[38;5;132;01m}\u001b[39;00m\u001b[38;5;124m, Recall@20: \u001b[39m\u001b[38;5;132;01m{\u001b[39;00mrecall\u001b[38;5;132;01m:\u001b[39;00m\u001b[38;5;124m.4f\u001b[39m\u001b[38;5;132;01m}\u001b[39;00m\u001b[38;5;124m'\u001b[39m)\n",
      "Cell \u001b[0;32mIn[25], line 31\u001b[0m, in \u001b[0;36mtrain\u001b[0;34m()\u001b[0m\n\u001b[1;32m     28\u001b[0m     loss\u001b[38;5;241m.\u001b[39mbackward()\n\u001b[1;32m     29\u001b[0m     optimizer\u001b[38;5;241m.\u001b[39mstep()\n\u001b[0;32m---> 31\u001b[0m     total_loss \u001b[38;5;241m+\u001b[39m\u001b[38;5;241m=\u001b[39m \u001b[38;5;28;43mfloat\u001b[39;49m\u001b[43m(\u001b[49m\u001b[43mloss\u001b[49m\u001b[43m)\u001b[49m \u001b[38;5;241m*\u001b[39m pos_rank\u001b[38;5;241m.\u001b[39mnumel()\n\u001b[1;32m     32\u001b[0m     total_examples \u001b[38;5;241m+\u001b[39m\u001b[38;5;241m=\u001b[39m pos_rank\u001b[38;5;241m.\u001b[39mnumel()\n\u001b[1;32m     34\u001b[0m \u001b[38;5;28;01mreturn\u001b[39;00m total_loss \u001b[38;5;241m/\u001b[39m total_examples\n",
      "\u001b[0;31mKeyboardInterrupt\u001b[0m: "
     ]
    }
   ],
   "source": [
    "for epoch in range(1, 101):\n",
    "    loss = train()\n",
    "    precision, recall = test(k=20)\n",
    "    print(f'Epoch: {epoch:03d}, Loss: {loss:.4f}, Precision@20: '\n",
    "          f'{precision:.4f}, Recall@20: {recall:.4f}')"
   ]
  },
  {
   "cell_type": "markdown",
   "id": "c7c4c907-8cd5-4bed-945a-ac44f1f92af4",
   "metadata": {},
   "source": [
    "amazon = AmazonBook(\"./data\")\n",
    "amazon = amazon[0]"
   ]
  },
  {
   "cell_type": "markdown",
   "id": "4187e121-e24a-46a6-9e9f-d38f20984998",
   "metadata": {},
   "source": [
    "print(amazon)"
   ]
  },
  {
   "cell_type": "markdown",
   "id": "fad1b844-13b9-4167-b507-05576bacde66",
   "metadata": {},
   "source": [
    "print(data)"
   ]
  },
  {
   "cell_type": "markdown",
   "id": "b9bf14bd-5ce1-4ce0-acba-65a9874c1e4f",
   "metadata": {},
   "source": [
    "2380730\n",
    "13994744"
   ]
  },
  {
   "cell_type": "markdown",
   "id": "77c98f44-2a3e-41bc-b766-22e31d77aff1",
   "metadata": {},
   "source": [
    "amazon['user','rates','book'].edge_label_index"
   ]
  },
  {
   "cell_type": "code",
   "execution_count": 33,
   "id": "b7945759-1ca7-43a1-9892-e01896f729fb",
   "metadata": {},
   "outputs": [
    {
     "name": "stdout",
     "output_type": "stream",
     "text": [
      "Pattern not found in the string.\n"
     ]
    },
    {
     "data": {
      "text/html": [
       "<div>\n",
       "<style scoped>\n",
       "    .dataframe tbody tr th:only-of-type {\n",
       "        vertical-align: middle;\n",
       "    }\n",
       "\n",
       "    .dataframe tbody tr th {\n",
       "        vertical-align: top;\n",
       "    }\n",
       "\n",
       "    .dataframe thead th {\n",
       "        text-align: right;\n",
       "    }\n",
       "</style>\n",
       "<table border=\"1\" class=\"dataframe\">\n",
       "  <thead>\n",
       "    <tr style=\"text-align: right;\">\n",
       "      <th></th>\n",
       "      <th>Precision@20</th>\n",
       "      <th>Recall@20</th>\n",
       "    </tr>\n",
       "  </thead>\n",
       "  <tbody>\n",
       "    <tr>\n",
       "      <th>1</th>\n",
       "      <td>0.0031</td>\n",
       "      <td>0.0136</td>\n",
       "    </tr>\n",
       "    <tr>\n",
       "      <th>2</th>\n",
       "      <td>0.0038</td>\n",
       "      <td>0.0168</td>\n",
       "    </tr>\n",
       "    <tr>\n",
       "      <th>3</th>\n",
       "      <td>0.0043</td>\n",
       "      <td>0.0190</td>\n",
       "    </tr>\n",
       "    <tr>\n",
       "      <th>4</th>\n",
       "      <td>0.0050</td>\n",
       "      <td>0.0218</td>\n",
       "    </tr>\n",
       "    <tr>\n",
       "      <th>5</th>\n",
       "      <td>0.0057</td>\n",
       "      <td>0.0251</td>\n",
       "    </tr>\n",
       "    <tr>\n",
       "      <th>6</th>\n",
       "      <td>0.0062</td>\n",
       "      <td>0.0275</td>\n",
       "    </tr>\n",
       "    <tr>\n",
       "      <th>7</th>\n",
       "      <td>0.0065</td>\n",
       "      <td>0.0291</td>\n",
       "    </tr>\n",
       "    <tr>\n",
       "      <th>8</th>\n",
       "      <td>0.0068</td>\n",
       "      <td>0.0305</td>\n",
       "    </tr>\n",
       "    <tr>\n",
       "      <th>9</th>\n",
       "      <td>0.0071</td>\n",
       "      <td>0.0319</td>\n",
       "    </tr>\n",
       "    <tr>\n",
       "      <th>10</th>\n",
       "      <td>0.0074</td>\n",
       "      <td>0.0333</td>\n",
       "    </tr>\n",
       "    <tr>\n",
       "      <th>11</th>\n",
       "      <td>0.0077</td>\n",
       "      <td>0.0348</td>\n",
       "    </tr>\n",
       "    <tr>\n",
       "      <th>12</th>\n",
       "      <td>0.0080</td>\n",
       "      <td>0.0361</td>\n",
       "    </tr>\n",
       "    <tr>\n",
       "      <th>13</th>\n",
       "      <td>0.0082</td>\n",
       "      <td>0.0372</td>\n",
       "    </tr>\n",
       "    <tr>\n",
       "      <th>14</th>\n",
       "      <td>0.0084</td>\n",
       "      <td>0.0383</td>\n",
       "    </tr>\n",
       "    <tr>\n",
       "      <th>15</th>\n",
       "      <td>0.0087</td>\n",
       "      <td>0.0394</td>\n",
       "    </tr>\n",
       "    <tr>\n",
       "      <th>16</th>\n",
       "      <td>0.0089</td>\n",
       "      <td>0.0406</td>\n",
       "    </tr>\n",
       "    <tr>\n",
       "      <th>17</th>\n",
       "      <td>0.0090</td>\n",
       "      <td>0.0412</td>\n",
       "    </tr>\n",
       "    <tr>\n",
       "      <th>18</th>\n",
       "      <td>0.0092</td>\n",
       "      <td>0.0420</td>\n",
       "    </tr>\n",
       "    <tr>\n",
       "      <th>19</th>\n",
       "      <td>0.0094</td>\n",
       "      <td>0.0430</td>\n",
       "    </tr>\n",
       "    <tr>\n",
       "      <th>20</th>\n",
       "      <td>0.0095</td>\n",
       "      <td>0.0436</td>\n",
       "    </tr>\n",
       "    <tr>\n",
       "      <th>21</th>\n",
       "      <td>0.0097</td>\n",
       "      <td>0.0444</td>\n",
       "    </tr>\n",
       "    <tr>\n",
       "      <th>22</th>\n",
       "      <td>0.0098</td>\n",
       "      <td>0.0450</td>\n",
       "    </tr>\n",
       "    <tr>\n",
       "      <th>23</th>\n",
       "      <td>0.0099</td>\n",
       "      <td>0.0455</td>\n",
       "    </tr>\n",
       "    <tr>\n",
       "      <th>24</th>\n",
       "      <td>0.0100</td>\n",
       "      <td>0.0460</td>\n",
       "    </tr>\n",
       "    <tr>\n",
       "      <th>25</th>\n",
       "      <td>0.0101</td>\n",
       "      <td>0.0464</td>\n",
       "    </tr>\n",
       "    <tr>\n",
       "      <th>26</th>\n",
       "      <td>0.0102</td>\n",
       "      <td>0.0469</td>\n",
       "    </tr>\n",
       "    <tr>\n",
       "      <th>27</th>\n",
       "      <td>0.0102</td>\n",
       "      <td>0.0472</td>\n",
       "    </tr>\n",
       "    <tr>\n",
       "      <th>28</th>\n",
       "      <td>0.0104</td>\n",
       "      <td>0.0477</td>\n",
       "    </tr>\n",
       "    <tr>\n",
       "      <th>29</th>\n",
       "      <td>0.0104</td>\n",
       "      <td>0.0477</td>\n",
       "    </tr>\n",
       "    <tr>\n",
       "      <th>30</th>\n",
       "      <td>0.0104</td>\n",
       "      <td>0.0479</td>\n",
       "    </tr>\n",
       "    <tr>\n",
       "      <th>31</th>\n",
       "      <td>0.0104</td>\n",
       "      <td>0.0480</td>\n",
       "    </tr>\n",
       "    <tr>\n",
       "      <th>32</th>\n",
       "      <td>0.0104</td>\n",
       "      <td>0.0481</td>\n",
       "    </tr>\n",
       "    <tr>\n",
       "      <th>33</th>\n",
       "      <td>0.0104</td>\n",
       "      <td>0.0480</td>\n",
       "    </tr>\n",
       "    <tr>\n",
       "      <th>34</th>\n",
       "      <td>0.0105</td>\n",
       "      <td>0.0483</td>\n",
       "    </tr>\n",
       "    <tr>\n",
       "      <th>35</th>\n",
       "      <td>0.0105</td>\n",
       "      <td>0.0481</td>\n",
       "    </tr>\n",
       "    <tr>\n",
       "      <th>36</th>\n",
       "      <td>0.0104</td>\n",
       "      <td>0.0481</td>\n",
       "    </tr>\n",
       "    <tr>\n",
       "      <th>37</th>\n",
       "      <td>0.0105</td>\n",
       "      <td>0.0480</td>\n",
       "    </tr>\n",
       "    <tr>\n",
       "      <th>38</th>\n",
       "      <td>0.0104</td>\n",
       "      <td>0.0479</td>\n",
       "    </tr>\n",
       "    <tr>\n",
       "      <th>39</th>\n",
       "      <td>0.0104</td>\n",
       "      <td>0.0477</td>\n",
       "    </tr>\n",
       "    <tr>\n",
       "      <th>40</th>\n",
       "      <td>0.0104</td>\n",
       "      <td>0.0477</td>\n",
       "    </tr>\n",
       "    <tr>\n",
       "      <th>41</th>\n",
       "      <td>0.0104</td>\n",
       "      <td>0.0476</td>\n",
       "    </tr>\n",
       "    <tr>\n",
       "      <th>42</th>\n",
       "      <td>0.0103</td>\n",
       "      <td>0.0474</td>\n",
       "    </tr>\n",
       "    <tr>\n",
       "      <th>43</th>\n",
       "      <td>0.0103</td>\n",
       "      <td>0.0473</td>\n",
       "    </tr>\n",
       "    <tr>\n",
       "      <th>44</th>\n",
       "      <td>0.0103</td>\n",
       "      <td>0.0471</td>\n",
       "    </tr>\n",
       "    <tr>\n",
       "      <th>45</th>\n",
       "      <td>0.0102</td>\n",
       "      <td>0.0470</td>\n",
       "    </tr>\n",
       "    <tr>\n",
       "      <th>46</th>\n",
       "      <td>0.0102</td>\n",
       "      <td>0.0468</td>\n",
       "    </tr>\n",
       "    <tr>\n",
       "      <th>47</th>\n",
       "      <td>0.0101</td>\n",
       "      <td>0.0466</td>\n",
       "    </tr>\n",
       "    <tr>\n",
       "      <th>48</th>\n",
       "      <td>0.0101</td>\n",
       "      <td>0.0464</td>\n",
       "    </tr>\n",
       "    <tr>\n",
       "      <th>49</th>\n",
       "      <td>0.0101</td>\n",
       "      <td>0.0463</td>\n",
       "    </tr>\n",
       "    <tr>\n",
       "      <th>50</th>\n",
       "      <td>0.0101</td>\n",
       "      <td>0.0461</td>\n",
       "    </tr>\n",
       "    <tr>\n",
       "      <th>51</th>\n",
       "      <td>0.0100</td>\n",
       "      <td>0.0460</td>\n",
       "    </tr>\n",
       "    <tr>\n",
       "      <th>52</th>\n",
       "      <td>0.0100</td>\n",
       "      <td>0.0457</td>\n",
       "    </tr>\n",
       "    <tr>\n",
       "      <th>53</th>\n",
       "      <td>0.0100</td>\n",
       "      <td>0.0456</td>\n",
       "    </tr>\n",
       "  </tbody>\n",
       "</table>\n",
       "</div>"
      ],
      "text/plain": [
       "    Precision@20  Recall@20\n",
       "1         0.0031     0.0136\n",
       "2         0.0038     0.0168\n",
       "3         0.0043     0.0190\n",
       "4         0.0050     0.0218\n",
       "5         0.0057     0.0251\n",
       "6         0.0062     0.0275\n",
       "7         0.0065     0.0291\n",
       "8         0.0068     0.0305\n",
       "9         0.0071     0.0319\n",
       "10        0.0074     0.0333\n",
       "11        0.0077     0.0348\n",
       "12        0.0080     0.0361\n",
       "13        0.0082     0.0372\n",
       "14        0.0084     0.0383\n",
       "15        0.0087     0.0394\n",
       "16        0.0089     0.0406\n",
       "17        0.0090     0.0412\n",
       "18        0.0092     0.0420\n",
       "19        0.0094     0.0430\n",
       "20        0.0095     0.0436\n",
       "21        0.0097     0.0444\n",
       "22        0.0098     0.0450\n",
       "23        0.0099     0.0455\n",
       "24        0.0100     0.0460\n",
       "25        0.0101     0.0464\n",
       "26        0.0102     0.0469\n",
       "27        0.0102     0.0472\n",
       "28        0.0104     0.0477\n",
       "29        0.0104     0.0477\n",
       "30        0.0104     0.0479\n",
       "31        0.0104     0.0480\n",
       "32        0.0104     0.0481\n",
       "33        0.0104     0.0480\n",
       "34        0.0105     0.0483\n",
       "35        0.0105     0.0481\n",
       "36        0.0104     0.0481\n",
       "37        0.0105     0.0480\n",
       "38        0.0104     0.0479\n",
       "39        0.0104     0.0477\n",
       "40        0.0104     0.0477\n",
       "41        0.0104     0.0476\n",
       "42        0.0103     0.0474\n",
       "43        0.0103     0.0473\n",
       "44        0.0103     0.0471\n",
       "45        0.0102     0.0470\n",
       "46        0.0102     0.0468\n",
       "47        0.0101     0.0466\n",
       "48        0.0101     0.0464\n",
       "49        0.0101     0.0463\n",
       "50        0.0101     0.0461\n",
       "51        0.0100     0.0460\n",
       "52        0.0100     0.0457\n",
       "53        0.0100     0.0456"
      ]
     },
     "execution_count": 33,
     "metadata": {},
     "output_type": "execute_result"
    }
   ],
   "source": [
    "import re\n",
    "\n",
    "log_file  = \"\"\"100%|██████████| 6834/6834 [09:27<00:00, 12.05it/s]\n",
    "Epoch: 001, Loss: 0.3758, Precision@20: 0.0031, Recall@20: 0.0136\n",
    "100%|██████████| 6834/6834 [09:27<00:00, 12.04it/s]\n",
    "Epoch: 002, Loss: 0.3371, Precision@20: 0.0038, Recall@20: 0.0168\n",
    "100%|██████████| 6834/6834 [09:27<00:00, 12.03it/s]\n",
    "Epoch: 003, Loss: 0.3068, Precision@20: 0.0043, Recall@20: 0.0190\n",
    "100%|██████████| 6834/6834 [09:24<00:00, 12.11it/s]\n",
    "Epoch: 004, Loss: 0.2791, Precision@20: 0.0050, Recall@20: 0.0218\n",
    "100%|██████████| 6834/6834 [09:19<00:00, 12.21it/s]\n",
    "Epoch: 005, Loss: 0.2471, Precision@20: 0.0057, Recall@20: 0.0251\n",
    "100%|██████████| 6834/6834 [09:28<00:00, 12.03it/s]\n",
    "Epoch: 006, Loss: 0.2214, Precision@20: 0.0062, Recall@20: 0.0275\n",
    "100%|██████████| 6834/6834 [09:28<00:00, 12.03it/s]\n",
    "Epoch: 007, Loss: 0.2049, Precision@20: 0.0065, Recall@20: 0.0291\n",
    "100%|██████████| 6834/6834 [09:27<00:00, 12.03it/s]\n",
    "Epoch: 008, Loss: 0.1923, Precision@20: 0.0068, Recall@20: 0.0305\n",
    "100%|██████████| 6834/6834 [09:16<00:00, 12.29it/s]\n",
    "Epoch: 009, Loss: 0.1816, Precision@20: 0.0071, Recall@20: 0.0319\n",
    "100%|██████████| 6834/6834 [09:27<00:00, 12.04it/s]\n",
    "Epoch: 010, Loss: 0.1720, Precision@20: 0.0074, Recall@20: 0.0333\n",
    "100%|██████████| 6834/6834 [09:18<00:00, 12.23it/s]\n",
    "Epoch: 011, Loss: 0.1635, Precision@20: 0.0077, Recall@20: 0.0348\n",
    "100%|██████████| 6834/6834 [09:09<00:00, 12.44it/s]\n",
    "Epoch: 012, Loss: 0.1559, Precision@20: 0.0080, Recall@20: 0.0361\n",
    "100%|██████████| 6834/6834 [09:09<00:00, 12.44it/s]\n",
    "Epoch: 013, Loss: 0.1491, Precision@20: 0.0082, Recall@20: 0.0372\n",
    "100%|██████████| 6834/6834 [09:09<00:00, 12.44it/s]\n",
    "Epoch: 014, Loss: 0.1429, Precision@20: 0.0084, Recall@20: 0.0383\n",
    "100%|██████████| 6834/6834 [09:09<00:00, 12.44it/s]\n",
    "Epoch: 015, Loss: 0.1370, Precision@20: 0.0087, Recall@20: 0.0394\n",
    "100%|██████████| 6834/6834 [09:22<00:00, 12.14it/s]\n",
    "Epoch: 016, Loss: 0.1318, Precision@20: 0.0089, Recall@20: 0.0406\n",
    "100%|██████████| 6834/6834 [09:28<00:00, 12.02it/s]\n",
    "Epoch: 017, Loss: 0.1266, Precision@20: 0.0090, Recall@20: 0.0412\n",
    "100%|██████████| 6834/6834 [09:29<00:00, 12.01it/s]\n",
    "Epoch: 018, Loss: 0.1225, Precision@20: 0.0092, Recall@20: 0.0420\n",
    "100%|██████████| 6834/6834 [09:28<00:00, 12.01it/s]\n",
    "Epoch: 019, Loss: 0.1180, Precision@20: 0.0094, Recall@20: 0.0430\n",
    "100%|██████████| 6834/6834 [09:17<00:00, 12.26it/s]\n",
    "Epoch: 020, Loss: 0.1142, Precision@20: 0.0095, Recall@20: 0.0436\n",
    "100%|██████████| 6834/6834 [09:29<00:00, 12.01it/s]\n",
    "Epoch: 021, Loss: 0.1105, Precision@20: 0.0097, Recall@20: 0.0444\n",
    "100%|██████████| 6834/6834 [09:29<00:00, 12.01it/s]\n",
    "Epoch: 022, Loss: 0.1073, Precision@20: 0.0098, Recall@20: 0.0450\n",
    "100%|██████████| 6834/6834 [09:29<00:00, 12.01it/s]\n",
    "Epoch: 023, Loss: 0.1036, Precision@20: 0.0099, Recall@20: 0.0455\n",
    "100%|██████████| 6834/6834 [09:29<00:00, 12.00it/s]\n",
    "Epoch: 024, Loss: 0.1010, Precision@20: 0.0100, Recall@20: 0.0460\n",
    "100%|██████████| 6834/6834 [09:17<00:00, 12.25it/s]\n",
    "Epoch: 025, Loss: 0.0980, Precision@20: 0.0101, Recall@20: 0.0464\n",
    "100%|██████████| 6834/6834 [09:29<00:00, 12.01it/s]\n",
    "Epoch: 026, Loss: 0.0959, Precision@20: 0.0102, Recall@20: 0.0469\n",
    "100%|██████████| 6834/6834 [09:16<00:00, 12.29it/s]\n",
    "Epoch: 027, Loss: 0.0934, Precision@20: 0.0102, Recall@20: 0.0472\n",
    "100%|██████████| 6834/6834 [09:29<00:00, 12.01it/s]\n",
    "Epoch: 028, Loss: 0.0912, Precision@20: 0.0104, Recall@20: 0.0477\n",
    "100%|██████████| 6834/6834 [09:22<00:00, 12.15it/s]\n",
    "Epoch: 029, Loss: 0.0890, Precision@20: 0.0104, Recall@20: 0.0477\n",
    "100%|██████████| 6834/6834 [09:29<00:00, 12.01it/s]\n",
    "Epoch: 030, Loss: 0.0871, Precision@20: 0.0104, Recall@20: 0.0479\n",
    "100%|██████████| 6834/6834 [09:16<00:00, 12.28it/s]\n",
    "Epoch: 031, Loss: 0.0855, Precision@20: 0.0104, Recall@20: 0.0480\n",
    "100%|██████████| 6834/6834 [09:29<00:00, 12.00it/s]\n",
    "Epoch: 032, Loss: 0.0836, Precision@20: 0.0104, Recall@20: 0.0481\n",
    "100%|██████████| 6834/6834 [09:29<00:00, 12.00it/s]\n",
    "Epoch: 033, Loss: 0.0824, Precision@20: 0.0104, Recall@20: 0.0480\n",
    "100%|██████████| 6834/6834 [09:28<00:00, 12.02it/s]\n",
    "Epoch: 034, Loss: 0.0809, Precision@20: 0.0105, Recall@20: 0.0483\n",
    "100%|██████████| 6834/6834 [09:29<00:00, 12.01it/s]\n",
    "Epoch: 035, Loss: 0.0796, Precision@20: 0.0105, Recall@20: 0.0481\n",
    "100%|██████████| 6834/6834 [09:29<00:00, 12.01it/s]\n",
    "Epoch: 036, Loss: 0.0784, Precision@20: 0.0104, Recall@20: 0.0481\n",
    "100%|██████████| 6834/6834 [09:29<00:00, 12.01it/s]\n",
    "Epoch: 037, Loss: 0.0774, Precision@20: 0.0105, Recall@20: 0.0480\n",
    "100%|██████████| 6834/6834 [09:29<00:00, 12.01it/s]\n",
    "Epoch: 038, Loss: 0.0764, Precision@20: 0.0104, Recall@20: 0.0479\n",
    "100%|██████████| 6834/6834 [09:28<00:00, 12.01it/s]\n",
    "Epoch: 039, Loss: 0.0753, Precision@20: 0.0104, Recall@20: 0.0477\n",
    "100%|██████████| 6834/6834 [09:28<00:00, 12.02it/s]\n",
    "Epoch: 040, Loss: 0.0742, Precision@20: 0.0104, Recall@20: 0.0477\n",
    "100%|██████████| 6834/6834 [09:28<00:00, 12.02it/s]\n",
    "Epoch: 041, Loss: 0.0736, Precision@20: 0.0104, Recall@20: 0.0476\n",
    "100%|██████████| 6834/6834 [09:28<00:00, 12.02it/s]\n",
    "Epoch: 042, Loss: 0.0730, Precision@20: 0.0103, Recall@20: 0.0474\n",
    "100%|██████████| 6834/6834 [09:28<00:00, 12.02it/s]\n",
    "Epoch: 043, Loss: 0.0722, Precision@20: 0.0103, Recall@20: 0.0473\n",
    "100%|██████████| 6834/6834 [09:28<00:00, 12.02it/s]\n",
    "Epoch: 044, Loss: 0.0717, Precision@20: 0.0103, Recall@20: 0.0471\n",
    "100%|██████████| 6834/6834 [09:28<00:00, 12.02it/s]\n",
    "Epoch: 045, Loss: 0.0712, Precision@20: 0.0102, Recall@20: 0.0470\n",
    "100%|██████████| 6834/6834 [09:28<00:00, 12.02it/s]\n",
    "Epoch: 046, Loss: 0.0707, Precision@20: 0.0102, Recall@20: 0.0468\n",
    "100%|██████████| 6834/6834 [09:28<00:00, 12.03it/s]\n",
    "Epoch: 047, Loss: 0.0700, Precision@20: 0.0101, Recall@20: 0.0466\n",
    "100%|██████████| 6834/6834 [09:28<00:00, 12.03it/s]\n",
    "Epoch: 048, Loss: 0.0696, Precision@20: 0.0101, Recall@20: 0.0464\n",
    "100%|██████████| 6834/6834 [09:28<00:00, 12.03it/s]\n",
    "Epoch: 049, Loss: 0.0692, Precision@20: 0.0101, Recall@20: 0.0463\n",
    "100%|██████████| 6834/6834 [09:28<00:00, 12.03it/s]\n",
    "Epoch: 050, Loss: 0.0688, Precision@20: 0.0101, Recall@20: 0.0461\n",
    "100%|██████████| 6834/6834 [09:28<00:00, 12.03it/s]\n",
    "Epoch: 051, Loss: 0.0683, Precision@20: 0.0100, Recall@20: 0.0460\n",
    "100%|██████████| 6834/6834 [09:28<00:00, 12.03it/s]\n",
    "Epoch: 052, Loss: 0.0677, Precision@20: 0.0100, Recall@20: 0.0457\n",
    "100%|██████████| 6834/6834 [09:34<00:00, 11.89it/s]\n",
    "Epoch: 053, Loss: 0.0676, Precision@20: 0.0100, Recall@20: 0.0456\n",
    " 98%|█████████▊| 6672/6834 [09:12<00:13, 12.09it/s]\n",
    "\"\"\"\n",
    "pattern = r\"Epoch:\\s*(\\d+),.*Precision@20:\\s*([0-9.]+),.*Recall@20:\\s*([0-9.]+)\"\n",
    "\n",
    "\n",
    "\n",
    "loss_record = pd.DataFrame(columns=['Precision@20', 'Recall@20'])\n",
    "for line in log_file.splitlines():\n",
    "    if line[0] == '1':\n",
    "        continue\n",
    "    match = re.search(pattern, line)\n",
    "\n",
    "    if match:\n",
    "        epoch = int(match.group(1))  # Convert to integer\n",
    "        precision = float(match.group(2))  # Convert to float\n",
    "        recall = float(match.group(3))  # Convert to float\n",
    "        loss_record.loc[epoch] = [precision, recall]\n",
    "        # print(f\"Epoch: {epoch}, Precision@20: {precision}, Recall@20: {recall}\")\n",
    "    else:\n",
    "        print(\"Pattern not found in the string.\")\n",
    "loss_record"
   ]
  },
  {
   "cell_type": "code",
   "execution_count": 42,
   "id": "f1ae94d0",
   "metadata": {},
   "outputs": [
    {
     "data": {
      "image/png": "[encoded data removed]",
      "text/plain": [
       "<Figure size 1000x500 with 2 Axes>"
      ]
     },
     "metadata": {},
     "output_type": "display_data"
    }
   ],
   "source": [
    "import matplotlib.pyplot as plt\n",
    "\n",
    "fig, ax = plt.subplots(1,2, figsize=(10, 5))\n",
    "ax[0].plot(loss_record.index, loss_record['Precision@20'])\n",
    "ax[1].plot(loss_record.index, loss_record['Recall@20'])\n",
    "ax[0].set_title('Precision@20')\n",
    "ax[1].set_title('Recall@20')\n",
    "ax[0].set_xlabel('Epochs')\n",
    "ax[1].set_xlabel('Epochs')\n",
    "fig.suptitle(\"LightGCN\")\n",
    "plt.show\n",
    "plt.savefig('LightGCN_results.jpg')"
   ]
  }
 ],
 "metadata": {
  "kernelspec": {
   "display_name": "Python 3 (ipykernel)",
   "language": "python",
   "name": "python3"
  },
  "language_info": {
   "codemirror_mode": {
    "name": "ipython",
    "version": 3
   },
   "file_extension": ".py",
   "mimetype": "text/x-python",
   "name": "python",
   "nbconvert_exporter": "python",
   "pygments_lexer": "ipython3",
   "version": "3.9.18"
  }
 },
 "nbformat": 4,
 "nbformat_minor": 5
}
