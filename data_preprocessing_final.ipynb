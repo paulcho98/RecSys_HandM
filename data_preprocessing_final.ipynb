{
 "cells": [
  {
   "cell_type": "code",
   "execution_count": 1,
   "id": "5ed37753-1e41-4d58-bf24-4c7190252467",
   "metadata": {},
   "outputs": [
    {
     "name": "stdout",
     "output_type": "stream",
     "text": [
      "<module 'pandas' (ModuleAccelerator(fast=cudf, slow=pandas))>\n"
     ]
    }
   ],
   "source": [
    "%load_ext cudf.pandas\n",
    "import pandas as pd\n",
    "\n",
    "print(pd)"
   ]
  },
  {
   "cell_type": "code",
   "execution_count": 2,
   "id": "9b0444d8-da3d-4101-816e-3c5607ba9d49",
   "metadata": {},
   "outputs": [],
   "source": [
    "import numpy as np\n",
    "from matplotlib import pyplot as plt\n",
    "from tqdm.notebook import tqdm\n",
    "import glob\n",
    "from sklearn.model_selection import train_test_split"
   ]
  },
  {
   "cell_type": "code",
   "execution_count": 3,
   "id": "bd203633-a5cc-4bab-ab9a-5151af3cc0b0",
   "metadata": {},
   "outputs": [
    {
     "data": {
      "text/plain": [
       "'2.1.0.post300'"
      ]
     },
     "execution_count": 3,
     "metadata": {},
     "output_type": "execute_result"
    }
   ],
   "source": [
    "import torch\n",
    "torch.__version__"
   ]
  },
  {
   "cell_type": "code",
   "execution_count": 4,
   "id": "b96bbdcd-8c49-4f92-94fb-03ffffb63130",
   "metadata": {},
   "outputs": [],
   "source": [
    "articles = pd.read_csv(\"data/articles.csv\")\n",
    "customers = pd.read_csv(\"data/customers.csv\")\n",
    "transactions = pd.read_csv(\"data/transactions_train.csv\")"
   ]
  },
  {
   "cell_type": "code",
   "execution_count": 5,
   "id": "60f436a4-49f2-4f6d-b1e6-84dc57599c5a",
   "metadata": {},
   "outputs": [
    {
     "name": "stdout",
     "output_type": "stream",
     "text": [
      "articles shape:  (105542, 25)\n",
      "customers shape:  (1371980, 7)\n",
      "transactions shape:  (31788324, 5)\n"
     ]
    }
   ],
   "source": [
    "print(\"articles shape: \", articles.shape)\n",
    "print(\"customers shape: \", customers.shape)\n",
    "print(\"transactions shape: \", transactions.shape)"
   ]
  },
  {
   "cell_type": "code",
   "execution_count": 6,
   "id": "6a174670-76a2-4c1e-9014-95337e2900b4",
   "metadata": {},
   "outputs": [
    {
     "data": {
      "text/html": [
       "<div>\n",
       "<style scoped>\n",
       "    .dataframe tbody tr th:only-of-type {\n",
       "        vertical-align: middle;\n",
       "    }\n",
       "\n",
       "    .dataframe tbody tr th {\n",
       "        vertical-align: top;\n",
       "    }\n",
       "\n",
       "    .dataframe thead th {\n",
       "        text-align: right;\n",
       "    }\n",
       "</style>\n",
       "<table border=\"1\" class=\"dataframe\">\n",
       "  <thead>\n",
       "    <tr style=\"text-align: right;\">\n",
       "      <th></th>\n",
       "      <th>t_dat</th>\n",
       "      <th>customer_id</th>\n",
       "      <th>article_id</th>\n",
       "      <th>price</th>\n",
       "      <th>sales_channel_id</th>\n",
       "    </tr>\n",
       "  </thead>\n",
       "  <tbody>\n",
       "    <tr>\n",
       "      <th>0</th>\n",
       "      <td>2018-09-20</td>\n",
       "      <td>000058a12d5b43e67d225668fa1f8d618c13dc232df0ca...</td>\n",
       "      <td>663713001</td>\n",
       "      <td>0.050831</td>\n",
       "      <td>2</td>\n",
       "    </tr>\n",
       "    <tr>\n",
       "      <th>1</th>\n",
       "      <td>2018-09-20</td>\n",
       "      <td>000058a12d5b43e67d225668fa1f8d618c13dc232df0ca...</td>\n",
       "      <td>541518023</td>\n",
       "      <td>0.030492</td>\n",
       "      <td>2</td>\n",
       "    </tr>\n",
       "    <tr>\n",
       "      <th>2</th>\n",
       "      <td>2018-09-20</td>\n",
       "      <td>00007d2de826758b65a93dd24ce629ed66842531df6699...</td>\n",
       "      <td>505221004</td>\n",
       "      <td>0.015237</td>\n",
       "      <td>2</td>\n",
       "    </tr>\n",
       "    <tr>\n",
       "      <th>3</th>\n",
       "      <td>2018-09-20</td>\n",
       "      <td>00007d2de826758b65a93dd24ce629ed66842531df6699...</td>\n",
       "      <td>685687003</td>\n",
       "      <td>0.016932</td>\n",
       "      <td>2</td>\n",
       "    </tr>\n",
       "    <tr>\n",
       "      <th>4</th>\n",
       "      <td>2018-09-20</td>\n",
       "      <td>00007d2de826758b65a93dd24ce629ed66842531df6699...</td>\n",
       "      <td>685687004</td>\n",
       "      <td>0.016932</td>\n",
       "      <td>2</td>\n",
       "    </tr>\n",
       "  </tbody>\n",
       "</table>\n",
       "</div>"
      ],
      "text/plain": [
       "        t_dat                                        customer_id  article_id  \\\n",
       "0  2018-09-20  000058a12d5b43e67d225668fa1f8d618c13dc232df0ca...   663713001   \n",
       "1  2018-09-20  000058a12d5b43e67d225668fa1f8d618c13dc232df0ca...   541518023   \n",
       "2  2018-09-20  00007d2de826758b65a93dd24ce629ed66842531df6699...   505221004   \n",
       "3  2018-09-20  00007d2de826758b65a93dd24ce629ed66842531df6699...   685687003   \n",
       "4  2018-09-20  00007d2de826758b65a93dd24ce629ed66842531df6699...   685687004   \n",
       "\n",
       "      price  sales_channel_id  \n",
       "0  0.050831                 2  \n",
       "1  0.030492                 2  \n",
       "2  0.015237                 2  \n",
       "3  0.016932                 2  \n",
       "4  0.016932                 2  "
      ]
     },
     "execution_count": 6,
     "metadata": {},
     "output_type": "execute_result"
    }
   ],
   "source": [
    "transactions.head()"
   ]
  },
  {
   "cell_type": "code",
   "execution_count": 7,
   "id": "37870a07-f12b-4fc6-9b41-f02308bda73a",
   "metadata": {},
   "outputs": [
    {
     "name": "stdout",
     "output_type": "stream",
     "text": [
      "(31788324, 5)\n"
     ]
    },
    {
     "data": {
      "text/html": [
       "<div>\n",
       "<style scoped>\n",
       "    .dataframe tbody tr th:only-of-type {\n",
       "        vertical-align: middle;\n",
       "    }\n",
       "\n",
       "    .dataframe tbody tr th {\n",
       "        vertical-align: top;\n",
       "    }\n",
       "\n",
       "    .dataframe thead th {\n",
       "        text-align: right;\n",
       "    }\n",
       "</style>\n",
       "<table border=\"1\" class=\"dataframe\">\n",
       "  <thead>\n",
       "    <tr style=\"text-align: right;\">\n",
       "      <th></th>\n",
       "      <th>customer_id</th>\n",
       "      <th>article_id</th>\n",
       "      <th>year</th>\n",
       "      <th>month</th>\n",
       "      <th>day</th>\n",
       "    </tr>\n",
       "  </thead>\n",
       "  <tbody>\n",
       "    <tr>\n",
       "      <th>0</th>\n",
       "      <td>-6846340800584936</td>\n",
       "      <td>663713001</td>\n",
       "      <td>18</td>\n",
       "      <td>9</td>\n",
       "      <td>20</td>\n",
       "    </tr>\n",
       "    <tr>\n",
       "      <th>1</th>\n",
       "      <td>-6846340800584936</td>\n",
       "      <td>541518023</td>\n",
       "      <td>18</td>\n",
       "      <td>9</td>\n",
       "      <td>20</td>\n",
       "    </tr>\n",
       "    <tr>\n",
       "      <th>2</th>\n",
       "      <td>-8334631767138808638</td>\n",
       "      <td>505221004</td>\n",
       "      <td>18</td>\n",
       "      <td>9</td>\n",
       "      <td>20</td>\n",
       "    </tr>\n",
       "    <tr>\n",
       "      <th>3</th>\n",
       "      <td>-8334631767138808638</td>\n",
       "      <td>685687003</td>\n",
       "      <td>18</td>\n",
       "      <td>9</td>\n",
       "      <td>20</td>\n",
       "    </tr>\n",
       "    <tr>\n",
       "      <th>4</th>\n",
       "      <td>-8334631767138808638</td>\n",
       "      <td>685687004</td>\n",
       "      <td>18</td>\n",
       "      <td>9</td>\n",
       "      <td>20</td>\n",
       "    </tr>\n",
       "  </tbody>\n",
       "</table>\n",
       "</div>"
      ],
      "text/plain": [
       "           customer_id  article_id  year  month  day\n",
       "0    -6846340800584936   663713001    18      9   20\n",
       "1    -6846340800584936   541518023    18      9   20\n",
       "2 -8334631767138808638   505221004    18      9   20\n",
       "3 -8334631767138808638   685687003    18      9   20\n",
       "4 -8334631767138808638   685687004    18      9   20"
      ]
     },
     "execution_count": 7,
     "metadata": {},
     "output_type": "execute_result"
    }
   ],
   "source": [
    "transactions['customer_id'] = transactions['customer_id'].apply(lambda x: int(x[-16:],16) ).astype('int64')\n",
    "transactions['article_id'] = transactions.article_id.astype('int32')\n",
    "#train['article_id'] = '0' + train.article_id.astype('str')\n",
    "transactions.t_dat = pd.to_datetime(transactions.t_dat)\n",
    "transactions = transactions[['t_dat','customer_id','article_id']]\n",
    "transactions['year'] = (transactions.t_dat.dt.year-2000).astype('int8')\n",
    "transactions['month'] = (transactions.t_dat.dt.month).astype('int8')\n",
    "transactions['day'] = (transactions.t_dat.dt.day).astype('int8')\n",
    "del transactions['t_dat']\n",
    "# transactions.to_parquet('transactions.pqt',index=False)\n",
    "print( transactions.shape )\n",
    "transactions.head()"
   ]
  },
  {
   "cell_type": "code",
   "execution_count": 8,
   "id": "c98a8e67-dfbc-427a-a916-a0b0292305fe",
   "metadata": {},
   "outputs": [],
   "source": [
    "customers['customer_id'] = customers['customer_id'].apply(lambda x: int(x[-16:],16) ).astype('int64')\n",
    "articles['article_id'] = articles['article_id'].astype('int32')"
   ]
  },
  {
   "cell_type": "code",
   "execution_count": 9,
   "id": "221999c4-7548-4933-9a2f-2a16f39e04ea",
   "metadata": {},
   "outputs": [
    {
     "data": {
      "text/html": [
       "<div>\n",
       "<style scoped>\n",
       "    .dataframe tbody tr th:only-of-type {\n",
       "        vertical-align: middle;\n",
       "    }\n",
       "\n",
       "    .dataframe tbody tr th {\n",
       "        vertical-align: top;\n",
       "    }\n",
       "\n",
       "    .dataframe thead th {\n",
       "        text-align: right;\n",
       "    }\n",
       "</style>\n",
       "<table border=\"1\" class=\"dataframe\">\n",
       "  <thead>\n",
       "    <tr style=\"text-align: right;\">\n",
       "      <th></th>\n",
       "      <th>customer_id</th>\n",
       "      <th>FN</th>\n",
       "      <th>Active</th>\n",
       "      <th>club_member_status</th>\n",
       "      <th>fashion_news_frequency</th>\n",
       "      <th>age</th>\n",
       "      <th>postal_code</th>\n",
       "    </tr>\n",
       "  </thead>\n",
       "  <tbody>\n",
       "    <tr>\n",
       "      <th>0</th>\n",
       "      <td>6883939031699146327</td>\n",
       "      <td>NaN</td>\n",
       "      <td>NaN</td>\n",
       "      <td>ACTIVE</td>\n",
       "      <td>NONE</td>\n",
       "      <td>49</td>\n",
       "      <td>52043ee2162cf5aa7ee79974281641c6f11a68d276429a...</td>\n",
       "    </tr>\n",
       "    <tr>\n",
       "      <th>1</th>\n",
       "      <td>-7200416642310594310</td>\n",
       "      <td>NaN</td>\n",
       "      <td>NaN</td>\n",
       "      <td>ACTIVE</td>\n",
       "      <td>NONE</td>\n",
       "      <td>25</td>\n",
       "      <td>2973abc54daa8a5f8ccfe9362140c63247c5eee03f1d93...</td>\n",
       "    </tr>\n",
       "    <tr>\n",
       "      <th>2</th>\n",
       "      <td>-6846340800584936</td>\n",
       "      <td>NaN</td>\n",
       "      <td>NaN</td>\n",
       "      <td>ACTIVE</td>\n",
       "      <td>NONE</td>\n",
       "      <td>24</td>\n",
       "      <td>64f17e6a330a85798e4998f62d0930d14db8db1c054af6...</td>\n",
       "    </tr>\n",
       "    <tr>\n",
       "      <th>3</th>\n",
       "      <td>-94071612138601410</td>\n",
       "      <td>NaN</td>\n",
       "      <td>NaN</td>\n",
       "      <td>ACTIVE</td>\n",
       "      <td>NONE</td>\n",
       "      <td>54</td>\n",
       "      <td>5d36574f52495e81f019b680c843c443bd343d5ca5b1c2...</td>\n",
       "    </tr>\n",
       "    <tr>\n",
       "      <th>4</th>\n",
       "      <td>-283965518499174310</td>\n",
       "      <td>1.0</td>\n",
       "      <td>1.0</td>\n",
       "      <td>ACTIVE</td>\n",
       "      <td>Regularly</td>\n",
       "      <td>52</td>\n",
       "      <td>25fa5ddee9aac01b35208d01736e57942317d756b32ddd...</td>\n",
       "    </tr>\n",
       "  </tbody>\n",
       "</table>\n",
       "</div>"
      ],
      "text/plain": [
       "           customer_id    FN Active club_member_status fashion_news_frequency  \\\n",
       "0  6883939031699146327  <NA>   <NA>             ACTIVE                   NONE   \n",
       "1 -7200416642310594310  <NA>   <NA>             ACTIVE                   NONE   \n",
       "2    -6846340800584936  <NA>   <NA>             ACTIVE                   NONE   \n",
       "3   -94071612138601410  <NA>   <NA>             ACTIVE                   NONE   \n",
       "4  -283965518499174310   1.0    1.0             ACTIVE              Regularly   \n",
       "\n",
       "   age                                        postal_code  \n",
       "0   49  52043ee2162cf5aa7ee79974281641c6f11a68d276429a...  \n",
       "1   25  2973abc54daa8a5f8ccfe9362140c63247c5eee03f1d93...  \n",
       "2   24  64f17e6a330a85798e4998f62d0930d14db8db1c054af6...  \n",
       "3   54  5d36574f52495e81f019b680c843c443bd343d5ca5b1c2...  \n",
       "4   52  25fa5ddee9aac01b35208d01736e57942317d756b32ddd...  "
      ]
     },
     "execution_count": 9,
     "metadata": {},
     "output_type": "execute_result"
    }
   ],
   "source": [
    "customers.head()"
   ]
  },
  {
   "cell_type": "code",
   "execution_count": 10,
   "id": "2073b87b-fdf8-40c2-8c1c-26dd6398ba6e",
   "metadata": {},
   "outputs": [
    {
     "data": {
      "text/html": [
       "<div>\n",
       "<style scoped>\n",
       "    .dataframe tbody tr th:only-of-type {\n",
       "        vertical-align: middle;\n",
       "    }\n",
       "\n",
       "    .dataframe tbody tr th {\n",
       "        vertical-align: top;\n",
       "    }\n",
       "\n",
       "    .dataframe thead th {\n",
       "        text-align: right;\n",
       "    }\n",
       "</style>\n",
       "<table border=\"1\" class=\"dataframe\">\n",
       "  <thead>\n",
       "    <tr style=\"text-align: right;\">\n",
       "      <th></th>\n",
       "      <th>article_id</th>\n",
       "      <th>product_code</th>\n",
       "      <th>prod_name</th>\n",
       "      <th>product_type_no</th>\n",
       "      <th>product_type_name</th>\n",
       "      <th>product_group_name</th>\n",
       "      <th>graphical_appearance_no</th>\n",
       "      <th>graphical_appearance_name</th>\n",
       "      <th>colour_group_code</th>\n",
       "      <th>colour_group_name</th>\n",
       "      <th>...</th>\n",
       "      <th>department_name</th>\n",
       "      <th>index_code</th>\n",
       "      <th>index_name</th>\n",
       "      <th>index_group_no</th>\n",
       "      <th>index_group_name</th>\n",
       "      <th>section_no</th>\n",
       "      <th>section_name</th>\n",
       "      <th>garment_group_no</th>\n",
       "      <th>garment_group_name</th>\n",
       "      <th>detail_desc</th>\n",
       "    </tr>\n",
       "  </thead>\n",
       "  <tbody>\n",
       "    <tr>\n",
       "      <th>0</th>\n",
       "      <td>108775015</td>\n",
       "      <td>108775</td>\n",
       "      <td>Strap top</td>\n",
       "      <td>253</td>\n",
       "      <td>Vest top</td>\n",
       "      <td>Garment Upper body</td>\n",
       "      <td>1010016</td>\n",
       "      <td>Solid</td>\n",
       "      <td>9</td>\n",
       "      <td>Black</td>\n",
       "      <td>...</td>\n",
       "      <td>Jersey Basic</td>\n",
       "      <td>A</td>\n",
       "      <td>Ladieswear</td>\n",
       "      <td>1</td>\n",
       "      <td>Ladieswear</td>\n",
       "      <td>16</td>\n",
       "      <td>Womens Everyday Basics</td>\n",
       "      <td>1002</td>\n",
       "      <td>Jersey Basic</td>\n",
       "      <td>Jersey top with narrow shoulder straps.</td>\n",
       "    </tr>\n",
       "    <tr>\n",
       "      <th>1</th>\n",
       "      <td>108775044</td>\n",
       "      <td>108775</td>\n",
       "      <td>Strap top</td>\n",
       "      <td>253</td>\n",
       "      <td>Vest top</td>\n",
       "      <td>Garment Upper body</td>\n",
       "      <td>1010016</td>\n",
       "      <td>Solid</td>\n",
       "      <td>10</td>\n",
       "      <td>White</td>\n",
       "      <td>...</td>\n",
       "      <td>Jersey Basic</td>\n",
       "      <td>A</td>\n",
       "      <td>Ladieswear</td>\n",
       "      <td>1</td>\n",
       "      <td>Ladieswear</td>\n",
       "      <td>16</td>\n",
       "      <td>Womens Everyday Basics</td>\n",
       "      <td>1002</td>\n",
       "      <td>Jersey Basic</td>\n",
       "      <td>Jersey top with narrow shoulder straps.</td>\n",
       "    </tr>\n",
       "    <tr>\n",
       "      <th>2</th>\n",
       "      <td>108775051</td>\n",
       "      <td>108775</td>\n",
       "      <td>Strap top (1)</td>\n",
       "      <td>253</td>\n",
       "      <td>Vest top</td>\n",
       "      <td>Garment Upper body</td>\n",
       "      <td>1010017</td>\n",
       "      <td>Stripe</td>\n",
       "      <td>11</td>\n",
       "      <td>Off White</td>\n",
       "      <td>...</td>\n",
       "      <td>Jersey Basic</td>\n",
       "      <td>A</td>\n",
       "      <td>Ladieswear</td>\n",
       "      <td>1</td>\n",
       "      <td>Ladieswear</td>\n",
       "      <td>16</td>\n",
       "      <td>Womens Everyday Basics</td>\n",
       "      <td>1002</td>\n",
       "      <td>Jersey Basic</td>\n",
       "      <td>Jersey top with narrow shoulder straps.</td>\n",
       "    </tr>\n",
       "    <tr>\n",
       "      <th>3</th>\n",
       "      <td>110065001</td>\n",
       "      <td>110065</td>\n",
       "      <td>OP T-shirt (Idro)</td>\n",
       "      <td>306</td>\n",
       "      <td>Bra</td>\n",
       "      <td>Underwear</td>\n",
       "      <td>1010016</td>\n",
       "      <td>Solid</td>\n",
       "      <td>9</td>\n",
       "      <td>Black</td>\n",
       "      <td>...</td>\n",
       "      <td>Clean Lingerie</td>\n",
       "      <td>B</td>\n",
       "      <td>Lingeries/Tights</td>\n",
       "      <td>1</td>\n",
       "      <td>Ladieswear</td>\n",
       "      <td>61</td>\n",
       "      <td>Womens Lingerie</td>\n",
       "      <td>1017</td>\n",
       "      <td>Under-, Nightwear</td>\n",
       "      <td>Microfibre T-shirt bra with underwired, moulde...</td>\n",
       "    </tr>\n",
       "    <tr>\n",
       "      <th>4</th>\n",
       "      <td>110065002</td>\n",
       "      <td>110065</td>\n",
       "      <td>OP T-shirt (Idro)</td>\n",
       "      <td>306</td>\n",
       "      <td>Bra</td>\n",
       "      <td>Underwear</td>\n",
       "      <td>1010016</td>\n",
       "      <td>Solid</td>\n",
       "      <td>10</td>\n",
       "      <td>White</td>\n",
       "      <td>...</td>\n",
       "      <td>Clean Lingerie</td>\n",
       "      <td>B</td>\n",
       "      <td>Lingeries/Tights</td>\n",
       "      <td>1</td>\n",
       "      <td>Ladieswear</td>\n",
       "      <td>61</td>\n",
       "      <td>Womens Lingerie</td>\n",
       "      <td>1017</td>\n",
       "      <td>Under-, Nightwear</td>\n",
       "      <td>Microfibre T-shirt bra with underwired, moulde...</td>\n",
       "    </tr>\n",
       "  </tbody>\n",
       "</table>\n",
       "<p>5 rows × 25 columns</p>\n",
       "</div>"
      ],
      "text/plain": [
       "   article_id  product_code          prod_name  product_type_no  \\\n",
       "0   108775015        108775          Strap top              253   \n",
       "1   108775044        108775          Strap top              253   \n",
       "2   108775051        108775      Strap top (1)              253   \n",
       "3   110065001        110065  OP T-shirt (Idro)              306   \n",
       "4   110065002        110065  OP T-shirt (Idro)              306   \n",
       "\n",
       "  product_type_name  product_group_name  graphical_appearance_no  \\\n",
       "0          Vest top  Garment Upper body                  1010016   \n",
       "1          Vest top  Garment Upper body                  1010016   \n",
       "2          Vest top  Garment Upper body                  1010017   \n",
       "3               Bra           Underwear                  1010016   \n",
       "4               Bra           Underwear                  1010016   \n",
       "\n",
       "  graphical_appearance_name  colour_group_code colour_group_name  ...  \\\n",
       "0                     Solid                  9             Black  ...   \n",
       "1                     Solid                 10             White  ...   \n",
       "2                    Stripe                 11         Off White  ...   \n",
       "3                     Solid                  9             Black  ...   \n",
       "4                     Solid                 10             White  ...   \n",
       "\n",
       "   department_name index_code        index_name index_group_no  \\\n",
       "0     Jersey Basic          A        Ladieswear              1   \n",
       "1     Jersey Basic          A        Ladieswear              1   \n",
       "2     Jersey Basic          A        Ladieswear              1   \n",
       "3   Clean Lingerie          B  Lingeries/Tights              1   \n",
       "4   Clean Lingerie          B  Lingeries/Tights              1   \n",
       "\n",
       "   index_group_name section_no            section_name garment_group_no  \\\n",
       "0        Ladieswear         16  Womens Everyday Basics             1002   \n",
       "1        Ladieswear         16  Womens Everyday Basics             1002   \n",
       "2        Ladieswear         16  Womens Everyday Basics             1002   \n",
       "3        Ladieswear         61         Womens Lingerie             1017   \n",
       "4        Ladieswear         61         Womens Lingerie             1017   \n",
       "\n",
       "   garment_group_name                                        detail_desc  \n",
       "0        Jersey Basic            Jersey top with narrow shoulder straps.  \n",
       "1        Jersey Basic            Jersey top with narrow shoulder straps.  \n",
       "2        Jersey Basic            Jersey top with narrow shoulder straps.  \n",
       "3   Under-, Nightwear  Microfibre T-shirt bra with underwired, moulde...  \n",
       "4   Under-, Nightwear  Microfibre T-shirt bra with underwired, moulde...  \n",
       "\n",
       "[5 rows x 25 columns]"
      ]
     },
     "execution_count": 10,
     "metadata": {},
     "output_type": "execute_result"
    }
   ],
   "source": [
    "articles.head()"
   ]
  },
  {
   "cell_type": "code",
   "execution_count": 11,
   "id": "b50bc240-14c2-48ea-bb80-66ff26568fb0",
   "metadata": {},
   "outputs": [
    {
     "data": {
      "text/plain": [
       "104547"
      ]
     },
     "execution_count": 11,
     "metadata": {},
     "output_type": "execute_result"
    }
   ],
   "source": [
    "transactions.article_id.nunique()"
   ]
  },
  {
   "cell_type": "code",
   "execution_count": 12,
   "id": "17dcc632-e2df-4c72-b1a5-30d0710d17e1",
   "metadata": {},
   "outputs": [
    {
     "data": {
      "text/plain": [
       "1362281"
      ]
     },
     "execution_count": 12,
     "metadata": {},
     "output_type": "execute_result"
    }
   ],
   "source": [
    "transactions.customer_id.nunique()"
   ]
  },
  {
   "cell_type": "code",
   "execution_count": 13,
   "id": "1d8cb50b-162d-47af-a290-3c5eea926d1b",
   "metadata": {},
   "outputs": [
    {
     "data": {
      "text/plain": [
       "1371980"
      ]
     },
     "execution_count": 13,
     "metadata": {},
     "output_type": "execute_result"
    }
   ],
   "source": [
    "len(customers)"
   ]
  },
  {
   "cell_type": "code",
   "execution_count": 14,
   "id": "d299e7dd-619b-48d0-a0f5-c12efff25356",
   "metadata": {},
   "outputs": [
    {
     "data": {
      "text/plain": [
       "9699"
      ]
     },
     "execution_count": 14,
     "metadata": {},
     "output_type": "execute_result"
    }
   ],
   "source": [
    "len(customers)-transactions.customer_id.nunique()"
   ]
  },
  {
   "cell_type": "code",
   "execution_count": 15,
   "id": "fb1c364b-3c80-4efd-a963-a36e5c9972f3",
   "metadata": {},
   "outputs": [
    {
     "data": {
      "text/plain": [
       "1371980"
      ]
     },
     "execution_count": 15,
     "metadata": {},
     "output_type": "execute_result"
    }
   ],
   "source": [
    "customers.customer_id.nunique()"
   ]
  },
  {
   "cell_type": "code",
   "execution_count": 16,
   "id": "15beb4fa-6400-4a3f-8359-200a929f3799",
   "metadata": {},
   "outputs": [
    {
     "data": {
      "text/html": [
       "<div>\n",
       "<style scoped>\n",
       "    .dataframe tbody tr th:only-of-type {\n",
       "        vertical-align: middle;\n",
       "    }\n",
       "\n",
       "    .dataframe tbody tr th {\n",
       "        vertical-align: top;\n",
       "    }\n",
       "\n",
       "    .dataframe thead th {\n",
       "        text-align: right;\n",
       "    }\n",
       "</style>\n",
       "<table border=\"1\" class=\"dataframe\">\n",
       "  <thead>\n",
       "    <tr style=\"text-align: right;\">\n",
       "      <th></th>\n",
       "      <th></th>\n",
       "      <th>customer_id</th>\n",
       "      <th>article_id</th>\n",
       "      <th>day</th>\n",
       "    </tr>\n",
       "    <tr>\n",
       "      <th>year</th>\n",
       "      <th>month</th>\n",
       "      <th></th>\n",
       "      <th></th>\n",
       "      <th></th>\n",
       "    </tr>\n",
       "  </thead>\n",
       "  <tbody>\n",
       "    <tr>\n",
       "      <th rowspan=\"4\" valign=\"top\">18</th>\n",
       "      <th>9</th>\n",
       "      <td>594776</td>\n",
       "      <td>594776</td>\n",
       "      <td>594776</td>\n",
       "    </tr>\n",
       "    <tr>\n",
       "      <th>10</th>\n",
       "      <td>1397040</td>\n",
       "      <td>1397040</td>\n",
       "      <td>1397040</td>\n",
       "    </tr>\n",
       "    <tr>\n",
       "      <th>11</th>\n",
       "      <td>1270619</td>\n",
       "      <td>1270619</td>\n",
       "      <td>1270619</td>\n",
       "    </tr>\n",
       "    <tr>\n",
       "      <th>12</th>\n",
       "      <td>1148827</td>\n",
       "      <td>1148827</td>\n",
       "      <td>1148827</td>\n",
       "    </tr>\n",
       "    <tr>\n",
       "      <th rowspan=\"12\" valign=\"top\">19</th>\n",
       "      <th>1</th>\n",
       "      <td>1263471</td>\n",
       "      <td>1263471</td>\n",
       "      <td>1263471</td>\n",
       "    </tr>\n",
       "    <tr>\n",
       "      <th>2</th>\n",
       "      <td>1152412</td>\n",
       "      <td>1152412</td>\n",
       "      <td>1152412</td>\n",
       "    </tr>\n",
       "    <tr>\n",
       "      <th>3</th>\n",
       "      <td>1286750</td>\n",
       "      <td>1286750</td>\n",
       "      <td>1286750</td>\n",
       "    </tr>\n",
       "    <tr>\n",
       "      <th>4</th>\n",
       "      <td>1476454</td>\n",
       "      <td>1476454</td>\n",
       "      <td>1476454</td>\n",
       "    </tr>\n",
       "    <tr>\n",
       "      <th>5</th>\n",
       "      <td>1560319</td>\n",
       "      <td>1560319</td>\n",
       "      <td>1560319</td>\n",
       "    </tr>\n",
       "    <tr>\n",
       "      <th>6</th>\n",
       "      <td>1906202</td>\n",
       "      <td>1906202</td>\n",
       "      <td>1906202</td>\n",
       "    </tr>\n",
       "    <tr>\n",
       "      <th>7</th>\n",
       "      <td>1807494</td>\n",
       "      <td>1807494</td>\n",
       "      <td>1807494</td>\n",
       "    </tr>\n",
       "    <tr>\n",
       "      <th>8</th>\n",
       "      <td>1253530</td>\n",
       "      <td>1253530</td>\n",
       "      <td>1253530</td>\n",
       "    </tr>\n",
       "    <tr>\n",
       "      <th>9</th>\n",
       "      <td>1227178</td>\n",
       "      <td>1227178</td>\n",
       "      <td>1227178</td>\n",
       "    </tr>\n",
       "    <tr>\n",
       "      <th>10</th>\n",
       "      <td>1146772</td>\n",
       "      <td>1146772</td>\n",
       "      <td>1146772</td>\n",
       "    </tr>\n",
       "    <tr>\n",
       "      <th>11</th>\n",
       "      <td>1198033</td>\n",
       "      <td>1198033</td>\n",
       "      <td>1198033</td>\n",
       "    </tr>\n",
       "    <tr>\n",
       "      <th>12</th>\n",
       "      <td>1118315</td>\n",
       "      <td>1118315</td>\n",
       "      <td>1118315</td>\n",
       "    </tr>\n",
       "    <tr>\n",
       "      <th rowspan=\"9\" valign=\"top\">20</th>\n",
       "      <th>1</th>\n",
       "      <td>1076354</td>\n",
       "      <td>1076354</td>\n",
       "      <td>1076354</td>\n",
       "    </tr>\n",
       "    <tr>\n",
       "      <th>2</th>\n",
       "      <td>1001859</td>\n",
       "      <td>1001859</td>\n",
       "      <td>1001859</td>\n",
       "    </tr>\n",
       "    <tr>\n",
       "      <th>3</th>\n",
       "      <td>1047752</td>\n",
       "      <td>1047752</td>\n",
       "      <td>1047752</td>\n",
       "    </tr>\n",
       "    <tr>\n",
       "      <th>4</th>\n",
       "      <td>1340882</td>\n",
       "      <td>1340882</td>\n",
       "      <td>1340882</td>\n",
       "    </tr>\n",
       "    <tr>\n",
       "      <th>5</th>\n",
       "      <td>1361815</td>\n",
       "      <td>1361815</td>\n",
       "      <td>1361815</td>\n",
       "    </tr>\n",
       "    <tr>\n",
       "      <th>6</th>\n",
       "      <td>1764507</td>\n",
       "      <td>1764507</td>\n",
       "      <td>1764507</td>\n",
       "    </tr>\n",
       "    <tr>\n",
       "      <th>7</th>\n",
       "      <td>1351502</td>\n",
       "      <td>1351502</td>\n",
       "      <td>1351502</td>\n",
       "    </tr>\n",
       "    <tr>\n",
       "      <th>8</th>\n",
       "      <td>1237192</td>\n",
       "      <td>1237192</td>\n",
       "      <td>1237192</td>\n",
       "    </tr>\n",
       "    <tr>\n",
       "      <th>9</th>\n",
       "      <td>798269</td>\n",
       "      <td>798269</td>\n",
       "      <td>798269</td>\n",
       "    </tr>\n",
       "  </tbody>\n",
       "</table>\n",
       "</div>"
      ],
      "text/plain": [
       "            customer_id  article_id      day\n",
       "year month                                  \n",
       "18   9           594776      594776   594776\n",
       "     10         1397040     1397040  1397040\n",
       "     11         1270619     1270619  1270619\n",
       "     12         1148827     1148827  1148827\n",
       "19   1          1263471     1263471  1263471\n",
       "     2          1152412     1152412  1152412\n",
       "     3          1286750     1286750  1286750\n",
       "     4          1476454     1476454  1476454\n",
       "     5          1560319     1560319  1560319\n",
       "     6          1906202     1906202  1906202\n",
       "     7          1807494     1807494  1807494\n",
       "     8          1253530     1253530  1253530\n",
       "     9          1227178     1227178  1227178\n",
       "     10         1146772     1146772  1146772\n",
       "     11         1198033     1198033  1198033\n",
       "     12         1118315     1118315  1118315\n",
       "20   1          1076354     1076354  1076354\n",
       "     2          1001859     1001859  1001859\n",
       "     3          1047752     1047752  1047752\n",
       "     4          1340882     1340882  1340882\n",
       "     5          1361815     1361815  1361815\n",
       "     6          1764507     1764507  1764507\n",
       "     7          1351502     1351502  1351502\n",
       "     8          1237192     1237192  1237192\n",
       "     9           798269      798269   798269"
      ]
     },
     "execution_count": 16,
     "metadata": {},
     "output_type": "execute_result"
    }
   ],
   "source": [
    "transactions.groupby(['year', 'month']).count()"
   ]
  },
  {
   "cell_type": "code",
   "execution_count": null,
   "id": "0dace723-2e4a-46d0-8f95-2a6ac8e2136f",
   "metadata": {},
   "outputs": [],
   "source": []
  },
  {
   "cell_type": "code",
   "execution_count": 24,
   "id": "1301a183-23ee-4076-acdf-78bb5e2e69b5",
   "metadata": {},
   "outputs": [
    {
     "data": {
      "text/plain": [
       "(2035461, 5)"
      ]
     },
     "execution_count": 24,
     "metadata": {},
     "output_type": "execute_result"
    }
   ],
   "source": [
    "transactions = transactions[(transactions['year']>=20) & (transactions['month']>=8)]\n",
    "transactions.shape"
   ]
  },
  {
   "cell_type": "code",
   "execution_count": 25,
   "id": "1e56ea9c-95de-4f66-bf35-ca40a63925ae",
   "metadata": {},
   "outputs": [
    {
     "name": "stdout",
     "output_type": "stream",
     "text": [
      "363798\n"
     ]
    }
   ],
   "source": [
    "customers = customers[customers['customer_id'].isin(set(transactions.customer_id.unique()))]\n",
    "print(len(customers))"
   ]
  },
  {
   "cell_type": "code",
   "execution_count": 26,
   "id": "57fd2bd5-3c0a-46aa-b24b-2fee5f4b30ad",
   "metadata": {},
   "outputs": [
    {
     "name": "stdout",
     "output_type": "stream",
     "text": [
      "34870\n"
     ]
    }
   ],
   "source": [
    "articles = articles[articles['article_id'].isin(set(transactions.article_id.unique()))]\n",
    "print(len(articles))"
   ]
  },
  {
   "cell_type": "code",
   "execution_count": 27,
   "id": "2bdb845e-23aa-4615-9bfd-5e74e1a51cb8",
   "metadata": {},
   "outputs": [],
   "source": [
    "articles.reset_index(inplace=True)\n",
    "customers.reset_index(inplace=True)"
   ]
  },
  {
   "cell_type": "code",
   "execution_count": 28,
   "id": "95eed6a0-b680-46cd-9eb4-cdff8f991ea3",
   "metadata": {},
   "outputs": [
    {
     "name": "stdout",
     "output_type": "stream",
     "text": [
      "105100\n"
     ]
    },
    {
     "data": {
      "application/vnd.jupyter.widget-view+json": {
       "model_id": "a18fa78607264ecfb778bea2ec18f90a",
       "version_major": 2,
       "version_minor": 0
      },
      "text/plain": [
       "  0%|          | 0/105100 [00:00<?, ?it/s]"
      ]
     },
     "metadata": {},
     "output_type": "display_data"
    }
   ],
   "source": [
    "all_image_paths = glob.glob(f\"data/images/*/*\")\n",
    "print(len(all_image_paths))\n",
    "all_image_ids = set()\n",
    "for path in tqdm(all_image_paths):\n",
    "    article_id = path.split('/')[-1].split('.')[0]\n",
    "    all_image_ids.add(int(article_id))"
   ]
  },
  {
   "cell_type": "code",
   "execution_count": 29,
   "id": "b15423b3-f467-4ffd-a678-e2d53c0657ac",
   "metadata": {},
   "outputs": [
    {
     "data": {
      "application/vnd.jupyter.widget-view+json": {
       "model_id": "0ca599af75c84a3d87f93b08cd202452",
       "version_major": 2,
       "version_minor": 0
      },
      "text/plain": [
       "0it [00:00, ?it/s]"
      ]
     },
     "metadata": {},
     "output_type": "display_data"
    }
   ],
   "source": [
    "images_path = f'data/images/0'\n",
    "\n",
    "articles[\"path\"] = images_path + articles[\"product_code\"].astype(str) + \"/0\" + articles[\"article_id\"].astype(str) + \".jpg\"\n",
    "\n",
    "# Adjust the incorrect paths and set them to None\n",
    "for k, article_id in tqdm(enumerate(articles[\"article_id\"])):\n",
    "    if article_id not in all_image_ids:\n",
    "        articles.loc[k, \"path\"] = None"
   ]
  },
  {
   "cell_type": "code",
   "execution_count": 30,
   "id": "4ea09dd4-f2b1-4832-a6cf-cc4a85e7d0d3",
   "metadata": {},
   "outputs": [],
   "source": [
    "articles.dropna(subset=['path'],inplace=True)"
   ]
  },
  {
   "cell_type": "code",
   "execution_count": 31,
   "id": "4c6a5dd0-3456-410d-9a60-3c0d9b242dc8",
   "metadata": {},
   "outputs": [
    {
     "data": {
      "text/plain": [
       "(34814, 27)"
      ]
     },
     "execution_count": 31,
     "metadata": {},
     "output_type": "execute_result"
    }
   ],
   "source": [
    "articles.shape"
   ]
  },
  {
   "cell_type": "code",
   "execution_count": 32,
   "id": "8c01574f-ccdd-423e-9252-045aec65f94b",
   "metadata": {},
   "outputs": [
    {
     "data": {
      "text/html": [
       "<div>\n",
       "<style scoped>\n",
       "    .dataframe tbody tr th:only-of-type {\n",
       "        vertical-align: middle;\n",
       "    }\n",
       "\n",
       "    .dataframe tbody tr th {\n",
       "        vertical-align: top;\n",
       "    }\n",
       "\n",
       "    .dataframe thead th {\n",
       "        text-align: right;\n",
       "    }\n",
       "</style>\n",
       "<table border=\"1\" class=\"dataframe\">\n",
       "  <thead>\n",
       "    <tr style=\"text-align: right;\">\n",
       "      <th></th>\n",
       "      <th>customer_id</th>\n",
       "      <th>article_id</th>\n",
       "      <th>year</th>\n",
       "      <th>month</th>\n",
       "      <th>day</th>\n",
       "    </tr>\n",
       "  </thead>\n",
       "  <tbody>\n",
       "    <tr>\n",
       "      <th>29752863</th>\n",
       "      <td>1130996224714012477</td>\n",
       "      <td>743123001</td>\n",
       "      <td>20</td>\n",
       "      <td>8</td>\n",
       "      <td>1</td>\n",
       "    </tr>\n",
       "    <tr>\n",
       "      <th>29752864</th>\n",
       "      <td>1130996224714012477</td>\n",
       "      <td>743123001</td>\n",
       "      <td>20</td>\n",
       "      <td>8</td>\n",
       "      <td>1</td>\n",
       "    </tr>\n",
       "    <tr>\n",
       "      <th>29752865</th>\n",
       "      <td>1130996224714012477</td>\n",
       "      <td>849597003</td>\n",
       "      <td>20</td>\n",
       "      <td>8</td>\n",
       "      <td>1</td>\n",
       "    </tr>\n",
       "    <tr>\n",
       "      <th>29752866</th>\n",
       "      <td>1130996224714012477</td>\n",
       "      <td>599580052</td>\n",
       "      <td>20</td>\n",
       "      <td>8</td>\n",
       "      <td>1</td>\n",
       "    </tr>\n",
       "    <tr>\n",
       "      <th>29752867</th>\n",
       "      <td>1130996224714012477</td>\n",
       "      <td>599580052</td>\n",
       "      <td>20</td>\n",
       "      <td>8</td>\n",
       "      <td>1</td>\n",
       "    </tr>\n",
       "    <tr>\n",
       "      <th>...</th>\n",
       "      <td>...</td>\n",
       "      <td>...</td>\n",
       "      <td>...</td>\n",
       "      <td>...</td>\n",
       "      <td>...</td>\n",
       "    </tr>\n",
       "    <tr>\n",
       "      <th>31788319</th>\n",
       "      <td>4685485978980270934</td>\n",
       "      <td>929511001</td>\n",
       "      <td>20</td>\n",
       "      <td>9</td>\n",
       "      <td>22</td>\n",
       "    </tr>\n",
       "    <tr>\n",
       "      <th>31788320</th>\n",
       "      <td>4685485978980270934</td>\n",
       "      <td>891322004</td>\n",
       "      <td>20</td>\n",
       "      <td>9</td>\n",
       "      <td>22</td>\n",
       "    </tr>\n",
       "    <tr>\n",
       "      <th>31788321</th>\n",
       "      <td>3959348689921271969</td>\n",
       "      <td>918325001</td>\n",
       "      <td>20</td>\n",
       "      <td>9</td>\n",
       "      <td>22</td>\n",
       "    </tr>\n",
       "    <tr>\n",
       "      <th>31788322</th>\n",
       "      <td>-8639340045377511665</td>\n",
       "      <td>833459002</td>\n",
       "      <td>20</td>\n",
       "      <td>9</td>\n",
       "      <td>22</td>\n",
       "    </tr>\n",
       "    <tr>\n",
       "      <th>31788323</th>\n",
       "      <td>3235222691137941515</td>\n",
       "      <td>898573003</td>\n",
       "      <td>20</td>\n",
       "      <td>9</td>\n",
       "      <td>22</td>\n",
       "    </tr>\n",
       "  </tbody>\n",
       "</table>\n",
       "<p>2035461 rows × 5 columns</p>\n",
       "</div>"
      ],
      "text/plain": [
       "                  customer_id  article_id  year  month  day\n",
       "29752863  1130996224714012477   743123001    20      8    1\n",
       "29752864  1130996224714012477   743123001    20      8    1\n",
       "29752865  1130996224714012477   849597003    20      8    1\n",
       "29752866  1130996224714012477   599580052    20      8    1\n",
       "29752867  1130996224714012477   599580052    20      8    1\n",
       "...                       ...         ...   ...    ...  ...\n",
       "31788319  4685485978980270934   929511001    20      9   22\n",
       "31788320  4685485978980270934   891322004    20      9   22\n",
       "31788321  3959348689921271969   918325001    20      9   22\n",
       "31788322 -8639340045377511665   833459002    20      9   22\n",
       "31788323  3235222691137941515   898573003    20      9   22\n",
       "\n",
       "[2035461 rows x 5 columns]"
      ]
     },
     "execution_count": 32,
     "metadata": {},
     "output_type": "execute_result"
    }
   ],
   "source": [
    "transactions"
   ]
  },
  {
   "cell_type": "code",
   "execution_count": 33,
   "id": "839f9bbc-dd64-4d02-abad-3391f14d7351",
   "metadata": {
    "scrolled": true
   },
   "outputs": [
    {
     "data": {
      "text/plain": [
       "customer_id\n",
       "-9223352921020755230    False\n",
       "-9223343869995384291     True\n",
       "-9223290575350349271    False\n",
       "-9223279922255655589    False\n",
       "-9223251502792607675    False\n",
       "                        ...  \n",
       " 9222733909628763172    False\n",
       " 9222940818992675193    False\n",
       " 9223099843213569889    False\n",
       " 9223141695752178477    False\n",
       " 9223144259947635662    False\n",
       "Name: article_id, Length: 363798, dtype: bool"
      ]
     },
     "execution_count": 33,
     "metadata": {},
     "output_type": "execute_result"
    }
   ],
   "source": [
    "core_10_customers = transactions.groupby(['customer_id'])['article_id'].count()>=10\n",
    "core_10_customers"
   ]
  },
  {
   "cell_type": "code",
   "execution_count": 34,
   "id": "def58606-21c5-4709-9ecc-0c8a114c4a44",
   "metadata": {},
   "outputs": [
    {
     "data": {
      "text/plain": [
       "Int64Index([-9223343869995384291, -9223100958908512198, -9222973878991087276,\n",
       "            -9222798684148120334, -9222465182417539881, -9221950529560072627,\n",
       "            -9221661208958206525, -9221250204668709066, -9220984377508749635,\n",
       "            -9220328629218950774,\n",
       "            ...\n",
       "             9219838591013150561,  9219928155584075153,  9220164111821453273,\n",
       "             9220246776645318990,  9221013759061785384,  9221380166206241768,\n",
       "             9221796771717283757,  9222484380911032362,  9222546307854699030,\n",
       "             9222665711703637549],\n",
       "           dtype='int64', name='customer_id', length=55854)"
      ]
     },
     "execution_count": 34,
     "metadata": {},
     "output_type": "execute_result"
    }
   ],
   "source": [
    "core_10_customers[core_10_customers].index"
   ]
  },
  {
   "cell_type": "code",
   "execution_count": 35,
   "id": "ce05ba02-6327-4cfa-ab56-6f7e7373e9fd",
   "metadata": {},
   "outputs": [],
   "source": [
    "transactions = transactions[transactions['customer_id'].isin(set(core_10_customers[core_10_customers].index))]"
   ]
  },
  {
   "cell_type": "code",
   "execution_count": 36,
   "id": "7f239afa-1f45-45fb-b677-b9e109a096c8",
   "metadata": {
    "scrolled": true
   },
   "outputs": [
    {
     "data": {
      "text/plain": [
       "article_id\n",
       "108775044     True\n",
       "110065002    False\n",
       "110065011    False\n",
       "111565001     True\n",
       "111586001     True\n",
       "             ...  \n",
       "952267001     True\n",
       "952938001    False\n",
       "953450001    False\n",
       "953763001     True\n",
       "956217002     True\n",
       "Name: customer_id, Length: 29792, dtype: bool"
      ]
     },
     "execution_count": 36,
     "metadata": {},
     "output_type": "execute_result"
    }
   ],
   "source": [
    "core_10_articles = transactions.groupby(['article_id'])['customer_id'].count()>=10\n",
    "core_10_articles"
   ]
  },
  {
   "cell_type": "code",
   "execution_count": 37,
   "id": "db2777a2-cbe0-4409-927d-4873c68707bd",
   "metadata": {},
   "outputs": [
    {
     "data": {
      "text/plain": [
       "Int64Index([108775044, 111565001, 111586001, 111593001, 111609001, 123173001,\n",
       "            129085001, 129085026, 129085027, 130035001,\n",
       "            ...\n",
       "            947168001, 947509001, 947599001, 947934001, 949198001, 949551001,\n",
       "            949551002, 952267001, 953763001, 956217002],\n",
       "           dtype='int64', name='article_id', length=12841)"
      ]
     },
     "execution_count": 37,
     "metadata": {},
     "output_type": "execute_result"
    }
   ],
   "source": [
    "core_10_articles[core_10_articles].index"
   ]
  },
  {
   "cell_type": "code",
   "execution_count": 38,
   "id": "24795cb5-8b10-4bae-8c15-e5ba81ef16d0",
   "metadata": {},
   "outputs": [],
   "source": [
    "transactions = transactions[transactions['article_id'].isin(set(core_10_articles[core_10_articles].index))]"
   ]
  },
  {
   "cell_type": "code",
   "execution_count": 39,
   "id": "b3e21c9a-d3ec-46ca-a386-210c6320acf4",
   "metadata": {},
   "outputs": [],
   "source": [
    "merged1 = pd.merge(transactions, articles, on='article_id', how='inner')\n",
    "merged2= pd.merge(transactions, customers, on='customer_id', how='inner')\n",
    "common_articles = set(merged1['article_id'])\n",
    "common_customers = set(merged2['customer_id'])\n",
    "transactions = transactions[transactions['article_id'].isin(common_articles) & transactions['customer_id'].isin(common_customers)]\n",
    "common_articles = set(transactions['article_id'])\n",
    "common_customers = set(transactions['customer_id'])\n",
    "articles = articles[articles['article_id'].isin(common_articles)]\n",
    "customers = customers[customers['customer_id'].isin(common_customers)]"
   ]
  },
  {
   "cell_type": "code",
   "execution_count": 40,
   "id": "4e2da983-95be-497a-af9a-3d097ad49111",
   "metadata": {},
   "outputs": [
    {
     "name": "stdout",
     "output_type": "stream",
     "text": [
      "12823\n",
      "12823\n",
      "55845\n",
      "55845\n"
     ]
    }
   ],
   "source": [
    "print(transactions.article_id.nunique())\n",
    "print(articles.article_id.nunique())\n",
    "print(transactions.customer_id.nunique())\n",
    "print(customers.customer_id.nunique())"
   ]
  },
  {
   "cell_type": "code",
   "execution_count": 41,
   "id": "69fc15bd-e78d-4a2e-b570-e1ac9ab7cb8f",
   "metadata": {},
   "outputs": [
    {
     "data": {
      "text/plain": [
       "(883196, 5)"
      ]
     },
     "execution_count": 41,
     "metadata": {},
     "output_type": "execute_result"
    }
   ],
   "source": [
    "transactions.shape"
   ]
  },
  {
   "cell_type": "code",
   "execution_count": 42,
   "id": "e8610619-6e9e-40ec-b15a-407796a5aa06",
   "metadata": {},
   "outputs": [],
   "source": [
    "customer_map = {u: i for i, u in enumerate(set(transactions['customer_id']))}\n",
    "article_map = {a: i for i, a in enumerate(set(transactions['article_id']))}\n",
    "transactions['customer_id'] = transactions['customer_id'].map(customer_map)\n",
    "transactions['article_id'] = transactions['article_id'].map(article_map)\n",
    "customers['customer_id'] = customers['customer_id'].map(customer_map)\n",
    "articles['article_id'] = articles['article_id'].map(article_map)\n"
   ]
  },
  {
   "cell_type": "code",
   "execution_count": 43,
   "id": "4f8396df-14ca-4830-bc37-4ba3138aa29b",
   "metadata": {},
   "outputs": [
    {
     "data": {
      "text/plain": [
       "(883196, 5)"
      ]
     },
     "execution_count": 43,
     "metadata": {},
     "output_type": "execute_result"
    }
   ],
   "source": [
    "transactions.shape"
   ]
  },
  {
   "cell_type": "code",
   "execution_count": 44,
   "id": "0cd8e066-289e-47e5-830d-51d4ddad0586",
   "metadata": {},
   "outputs": [
    {
     "data": {
      "text/plain": [
       "55845"
      ]
     },
     "execution_count": 44,
     "metadata": {},
     "output_type": "execute_result"
    }
   ],
   "source": [
    "transactions.customer_id.nunique()"
   ]
  },
  {
   "cell_type": "code",
   "execution_count": 45,
   "id": "7a58c0c7-2e49-496d-b358-3e20bfa71f0b",
   "metadata": {},
   "outputs": [
    {
     "data": {
      "text/plain": [
       "(55845, 8)"
      ]
     },
     "execution_count": 45,
     "metadata": {},
     "output_type": "execute_result"
    }
   ],
   "source": [
    "customers.shape"
   ]
  },
  {
   "cell_type": "code",
   "execution_count": 46,
   "id": "71c9923b-a3e9-4991-a43d-25071297d0ea",
   "metadata": {},
   "outputs": [
    {
     "data": {
      "text/plain": [
       "(12823, 27)"
      ]
     },
     "execution_count": 46,
     "metadata": {},
     "output_type": "execute_result"
    }
   ],
   "source": [
    "articles.shape"
   ]
  },
  {
   "cell_type": "code",
   "execution_count": 47,
   "id": "e90d85b7-2809-4e58-bf9f-7a24a618f776",
   "metadata": {},
   "outputs": [],
   "source": [
    "transactions.reset_index(inplace=True, drop=True)\n",
    "customers.reset_index(inplace=True)\n",
    "articles.reset_index(inplace=True)"
   ]
  },
  {
   "cell_type": "code",
   "execution_count": 48,
   "id": "498ab665-4233-4f99-be14-2562436839b3",
   "metadata": {},
   "outputs": [
    {
     "data": {
      "text/html": [
       "<div>\n",
       "<style scoped>\n",
       "    .dataframe tbody tr th:only-of-type {\n",
       "        vertical-align: middle;\n",
       "    }\n",
       "\n",
       "    .dataframe tbody tr th {\n",
       "        vertical-align: top;\n",
       "    }\n",
       "\n",
       "    .dataframe thead th {\n",
       "        text-align: right;\n",
       "    }\n",
       "</style>\n",
       "<table border=\"1\" class=\"dataframe\">\n",
       "  <thead>\n",
       "    <tr style=\"text-align: right;\">\n",
       "      <th></th>\n",
       "      <th>customer_id</th>\n",
       "      <th>article_id</th>\n",
       "      <th>year</th>\n",
       "      <th>month</th>\n",
       "      <th>day</th>\n",
       "    </tr>\n",
       "  </thead>\n",
       "  <tbody>\n",
       "    <tr>\n",
       "      <th>0</th>\n",
       "      <td>26873</td>\n",
       "      <td>3946</td>\n",
       "      <td>20</td>\n",
       "      <td>8</td>\n",
       "      <td>1</td>\n",
       "    </tr>\n",
       "    <tr>\n",
       "      <th>1</th>\n",
       "      <td>26873</td>\n",
       "      <td>3946</td>\n",
       "      <td>20</td>\n",
       "      <td>8</td>\n",
       "      <td>1</td>\n",
       "    </tr>\n",
       "    <tr>\n",
       "      <th>2</th>\n",
       "      <td>26873</td>\n",
       "      <td>8232</td>\n",
       "      <td>20</td>\n",
       "      <td>8</td>\n",
       "      <td>1</td>\n",
       "    </tr>\n",
       "    <tr>\n",
       "      <th>3</th>\n",
       "      <td>26873</td>\n",
       "      <td>9360</td>\n",
       "      <td>20</td>\n",
       "      <td>8</td>\n",
       "      <td>1</td>\n",
       "    </tr>\n",
       "    <tr>\n",
       "      <th>4</th>\n",
       "      <td>26873</td>\n",
       "      <td>9360</td>\n",
       "      <td>20</td>\n",
       "      <td>8</td>\n",
       "      <td>1</td>\n",
       "    </tr>\n",
       "  </tbody>\n",
       "</table>\n",
       "</div>"
      ],
      "text/plain": [
       "   customer_id  article_id  year  month  day\n",
       "0        26873        3946    20      8    1\n",
       "1        26873        3946    20      8    1\n",
       "2        26873        8232    20      8    1\n",
       "3        26873        9360    20      8    1\n",
       "4        26873        9360    20      8    1"
      ]
     },
     "execution_count": 48,
     "metadata": {},
     "output_type": "execute_result"
    }
   ],
   "source": [
    "transactions.head()"
   ]
  },
  {
   "cell_type": "code",
   "execution_count": 49,
   "id": "617d8637-b6a1-48ba-be48-ab8a0f2b0b6a",
   "metadata": {},
   "outputs": [],
   "source": [
    "train, test = train_test_split(transactions, test_size=0.2, random_state=42, stratify=transactions['article_id'])"
   ]
  },
  {
   "cell_type": "code",
   "execution_count": 50,
   "id": "b516f2f4-fdf4-4535-b14c-5bc1b28f8f11",
   "metadata": {},
   "outputs": [
    {
     "data": {
      "text/plain": [
       "((706556, 5), (176640, 5))"
      ]
     },
     "execution_count": 50,
     "metadata": {},
     "output_type": "execute_result"
    }
   ],
   "source": [
    "train.shape, test.shape"
   ]
  },
  {
   "cell_type": "code",
   "execution_count": 51,
   "id": "3e84b320-4cfa-4c54-a240-ac5903c29b4f",
   "metadata": {},
   "outputs": [
    {
     "data": {
      "text/html": [
       "<div>\n",
       "<style scoped>\n",
       "    .dataframe tbody tr th:only-of-type {\n",
       "        vertical-align: middle;\n",
       "    }\n",
       "\n",
       "    .dataframe tbody tr th {\n",
       "        vertical-align: top;\n",
       "    }\n",
       "\n",
       "    .dataframe thead th {\n",
       "        text-align: right;\n",
       "    }\n",
       "</style>\n",
       "<table border=\"1\" class=\"dataframe\">\n",
       "  <thead>\n",
       "    <tr style=\"text-align: right;\">\n",
       "      <th></th>\n",
       "      <th>customer_id</th>\n",
       "      <th>article_id</th>\n",
       "      <th>year</th>\n",
       "      <th>month</th>\n",
       "      <th>day</th>\n",
       "    </tr>\n",
       "  </thead>\n",
       "  <tbody>\n",
       "    <tr>\n",
       "      <th>613137</th>\n",
       "      <td>31399</td>\n",
       "      <td>4726</td>\n",
       "      <td>20</td>\n",
       "      <td>9</td>\n",
       "      <td>5</td>\n",
       "    </tr>\n",
       "    <tr>\n",
       "      <th>189672</th>\n",
       "      <td>26028</td>\n",
       "      <td>8887</td>\n",
       "      <td>20</td>\n",
       "      <td>8</td>\n",
       "      <td>11</td>\n",
       "    </tr>\n",
       "    <tr>\n",
       "      <th>77693</th>\n",
       "      <td>19440</td>\n",
       "      <td>6773</td>\n",
       "      <td>20</td>\n",
       "      <td>8</td>\n",
       "      <td>4</td>\n",
       "    </tr>\n",
       "    <tr>\n",
       "      <th>799883</th>\n",
       "      <td>1011</td>\n",
       "      <td>3503</td>\n",
       "      <td>20</td>\n",
       "      <td>9</td>\n",
       "      <td>17</td>\n",
       "    </tr>\n",
       "    <tr>\n",
       "      <th>86335</th>\n",
       "      <td>10819</td>\n",
       "      <td>6045</td>\n",
       "      <td>20</td>\n",
       "      <td>8</td>\n",
       "      <td>5</td>\n",
       "    </tr>\n",
       "    <tr>\n",
       "      <th>...</th>\n",
       "      <td>...</td>\n",
       "      <td>...</td>\n",
       "      <td>...</td>\n",
       "      <td>...</td>\n",
       "      <td>...</td>\n",
       "    </tr>\n",
       "    <tr>\n",
       "      <th>492884</th>\n",
       "      <td>32952</td>\n",
       "      <td>635</td>\n",
       "      <td>20</td>\n",
       "      <td>8</td>\n",
       "      <td>29</td>\n",
       "    </tr>\n",
       "    <tr>\n",
       "      <th>633383</th>\n",
       "      <td>42217</td>\n",
       "      <td>685</td>\n",
       "      <td>20</td>\n",
       "      <td>9</td>\n",
       "      <td>6</td>\n",
       "    </tr>\n",
       "    <tr>\n",
       "      <th>715096</th>\n",
       "      <td>23164</td>\n",
       "      <td>6240</td>\n",
       "      <td>20</td>\n",
       "      <td>9</td>\n",
       "      <td>11</td>\n",
       "    </tr>\n",
       "    <tr>\n",
       "      <th>749303</th>\n",
       "      <td>45695</td>\n",
       "      <td>2133</td>\n",
       "      <td>20</td>\n",
       "      <td>9</td>\n",
       "      <td>13</td>\n",
       "    </tr>\n",
       "    <tr>\n",
       "      <th>139075</th>\n",
       "      <td>23379</td>\n",
       "      <td>12638</td>\n",
       "      <td>20</td>\n",
       "      <td>8</td>\n",
       "      <td>7</td>\n",
       "    </tr>\n",
       "  </tbody>\n",
       "</table>\n",
       "<p>176640 rows × 5 columns</p>\n",
       "</div>"
      ],
      "text/plain": [
       "        customer_id  article_id  year  month  day\n",
       "613137        31399        4726    20      9    5\n",
       "189672        26028        8887    20      8   11\n",
       "77693         19440        6773    20      8    4\n",
       "799883         1011        3503    20      9   17\n",
       "86335         10819        6045    20      8    5\n",
       "...             ...         ...   ...    ...  ...\n",
       "492884        32952         635    20      8   29\n",
       "633383        42217         685    20      9    6\n",
       "715096        23164        6240    20      9   11\n",
       "749303        45695        2133    20      9   13\n",
       "139075        23379       12638    20      8    7\n",
       "\n",
       "[176640 rows x 5 columns]"
      ]
     },
     "execution_count": 51,
     "metadata": {},
     "output_type": "execute_result"
    }
   ],
   "source": [
    "test"
   ]
  },
  {
   "cell_type": "code",
   "execution_count": 52,
   "id": "ff3f4605-6039-4d92-8bb3-08f67a3e6585",
   "metadata": {},
   "outputs": [
    {
     "data": {
      "text/html": [
       "<div>\n",
       "<style scoped>\n",
       "    .dataframe tbody tr th:only-of-type {\n",
       "        vertical-align: middle;\n",
       "    }\n",
       "\n",
       "    .dataframe tbody tr th {\n",
       "        vertical-align: top;\n",
       "    }\n",
       "\n",
       "    .dataframe thead th {\n",
       "        text-align: right;\n",
       "    }\n",
       "</style>\n",
       "<table border=\"1\" class=\"dataframe\">\n",
       "  <thead>\n",
       "    <tr style=\"text-align: right;\">\n",
       "      <th></th>\n",
       "      <th>customer_id</th>\n",
       "      <th>article_id</th>\n",
       "      <th>year</th>\n",
       "      <th>month</th>\n",
       "      <th>day</th>\n",
       "    </tr>\n",
       "  </thead>\n",
       "  <tbody>\n",
       "    <tr>\n",
       "      <th>0</th>\n",
       "      <td>26873</td>\n",
       "      <td>3946</td>\n",
       "      <td>20</td>\n",
       "      <td>8</td>\n",
       "      <td>1</td>\n",
       "    </tr>\n",
       "    <tr>\n",
       "      <th>1</th>\n",
       "      <td>26873</td>\n",
       "      <td>3946</td>\n",
       "      <td>20</td>\n",
       "      <td>8</td>\n",
       "      <td>1</td>\n",
       "    </tr>\n",
       "    <tr>\n",
       "      <th>2</th>\n",
       "      <td>26873</td>\n",
       "      <td>8232</td>\n",
       "      <td>20</td>\n",
       "      <td>8</td>\n",
       "      <td>1</td>\n",
       "    </tr>\n",
       "    <tr>\n",
       "      <th>3</th>\n",
       "      <td>26873</td>\n",
       "      <td>9360</td>\n",
       "      <td>20</td>\n",
       "      <td>8</td>\n",
       "      <td>1</td>\n",
       "    </tr>\n",
       "    <tr>\n",
       "      <th>4</th>\n",
       "      <td>26873</td>\n",
       "      <td>9360</td>\n",
       "      <td>20</td>\n",
       "      <td>8</td>\n",
       "      <td>1</td>\n",
       "    </tr>\n",
       "  </tbody>\n",
       "</table>\n",
       "</div>"
      ],
      "text/plain": [
       "   customer_id  article_id  year  month  day\n",
       "0        26873        3946    20      8    1\n",
       "1        26873        3946    20      8    1\n",
       "2        26873        8232    20      8    1\n",
       "3        26873        9360    20      8    1\n",
       "4        26873        9360    20      8    1"
      ]
     },
     "execution_count": 52,
     "metadata": {},
     "output_type": "execute_result"
    }
   ],
   "source": [
    "transactions.head()"
   ]
  },
  {
   "cell_type": "code",
   "execution_count": 53,
   "id": "42f980a5-b500-45e4-a65f-4de5426bdef8",
   "metadata": {},
   "outputs": [],
   "source": [
    "transactions.to_csv(\"data/transactions.csv\", index=False)\n",
    "train.to_csv(\"data/train.csv\")\n",
    "test.to_csv(\"data/test.csv\")"
   ]
  },
  {
   "cell_type": "code",
   "execution_count": 54,
   "id": "05680d37-042d-4694-b976-6647aedac78b",
   "metadata": {},
   "outputs": [
    {
     "data": {
      "text/html": [
       "<div>\n",
       "<style scoped>\n",
       "    .dataframe tbody tr th:only-of-type {\n",
       "        vertical-align: middle;\n",
       "    }\n",
       "\n",
       "    .dataframe tbody tr th {\n",
       "        vertical-align: top;\n",
       "    }\n",
       "\n",
       "    .dataframe thead th {\n",
       "        text-align: right;\n",
       "    }\n",
       "</style>\n",
       "<table border=\"1\" class=\"dataframe\">\n",
       "  <thead>\n",
       "    <tr style=\"text-align: right;\">\n",
       "      <th></th>\n",
       "      <th>article_id</th>\n",
       "    </tr>\n",
       "    <tr>\n",
       "      <th>customer_id</th>\n",
       "      <th></th>\n",
       "    </tr>\n",
       "  </thead>\n",
       "  <tbody>\n",
       "    <tr>\n",
       "      <th>0</th>\n",
       "      <td>341 471 1170 1282 2183 2768 3673 3852 4476 514...</td>\n",
       "    </tr>\n",
       "    <tr>\n",
       "      <th>1</th>\n",
       "      <td>430 608 1129 2045 4177 5120 5430 6253 6989 845...</td>\n",
       "    </tr>\n",
       "    <tr>\n",
       "      <th>2</th>\n",
       "      <td>707 1480 1582 3472 3571 3571 4342 6208 6392 63...</td>\n",
       "    </tr>\n",
       "    <tr>\n",
       "      <th>3</th>\n",
       "      <td>1283 2141 3285 4345 4935 4938 5029 5061 5771 5...</td>\n",
       "    </tr>\n",
       "    <tr>\n",
       "      <th>4</th>\n",
       "      <td>3079 5070 8598 9192 11445</td>\n",
       "    </tr>\n",
       "    <tr>\n",
       "      <th>...</th>\n",
       "      <td>...</td>\n",
       "    </tr>\n",
       "    <tr>\n",
       "      <th>55840</th>\n",
       "      <td>259 259 260 260 1280 2041 2275 2275 2511 3394 ...</td>\n",
       "    </tr>\n",
       "    <tr>\n",
       "      <th>55841</th>\n",
       "      <td>850 1041 1226 2323 2511 2929 4634 4634 4635 51...</td>\n",
       "    </tr>\n",
       "    <tr>\n",
       "      <th>55842</th>\n",
       "      <td>22 241 1062 1340 1585 2721 4065 5432 6684 8098...</td>\n",
       "    </tr>\n",
       "    <tr>\n",
       "      <th>55843</th>\n",
       "      <td>635 3909 4599 5041 6388 6861</td>\n",
       "    </tr>\n",
       "    <tr>\n",
       "      <th>55844</th>\n",
       "      <td>1594 1812 2195 2222 4367 4382 4449 4453 4822 5...</td>\n",
       "    </tr>\n",
       "  </tbody>\n",
       "</table>\n",
       "<p>55842 rows × 1 columns</p>\n",
       "</div>"
      ],
      "text/plain": [
       "                                                    article_id\n",
       "customer_id                                                   \n",
       "0            341 471 1170 1282 2183 2768 3673 3852 4476 514...\n",
       "1            430 608 1129 2045 4177 5120 5430 6253 6989 845...\n",
       "2            707 1480 1582 3472 3571 3571 4342 6208 6392 63...\n",
       "3            1283 2141 3285 4345 4935 4938 5029 5061 5771 5...\n",
       "4                                    3079 5070 8598 9192 11445\n",
       "...                                                        ...\n",
       "55840        259 259 260 260 1280 2041 2275 2275 2511 3394 ...\n",
       "55841        850 1041 1226 2323 2511 2929 4634 4634 4635 51...\n",
       "55842        22 241 1062 1340 1585 2721 4065 5432 6684 8098...\n",
       "55843                             635 3909 4599 5041 6388 6861\n",
       "55844        1594 1812 2195 2222 4367 4382 4449 4453 4822 5...\n",
       "\n",
       "[55842 rows x 1 columns]"
      ]
     },
     "execution_count": 54,
     "metadata": {},
     "output_type": "execute_result"
    }
   ],
   "source": [
    "def transaction_only(df):\n",
    "    df = df.sort_values(by=['customer_id','article_id'])\n",
    "    df['article_id'] = df['article_id'].map(str)\n",
    "    df = df.groupby(['customer_id']).agg({'article_id':' '.join})\n",
    "    return df\n",
    "train = transaction_only(train)\n",
    "test = transaction_only(test)\n",
    "train\n",
    "                        "
   ]
  },
  {
   "cell_type": "code",
   "execution_count": 55,
   "id": "d8abc98f-800a-4bcb-9537-0926eac86d57",
   "metadata": {},
   "outputs": [],
   "source": [
    "f = open('data/train.txt', 'w')\n",
    "for customer, articles in enumerate(train.values):\n",
    "    f.write(f'{customer} {articles[0]}\\n')"
   ]
  },
  {
   "cell_type": "code",
   "execution_count": 56,
   "id": "15b87ec6-d693-4893-9f66-91cf74e5955f",
   "metadata": {},
   "outputs": [],
   "source": [
    "f = open('data/test.txt', 'w')\n",
    "for customer, articles in enumerate(test.values):\n",
    "    f.write(f'{customer} {articles[0]}\\n')"
   ]
  },
  {
   "cell_type": "code",
   "execution_count": null,
   "id": "8fabe174-52a5-46d2-8a82-575b3c7daf40",
   "metadata": {},
   "outputs": [],
   "source": []
  }
 ],
 "metadata": {
  "kernelspec": {
   "display_name": "Python 3 (ipykernel)",
   "language": "python",
   "name": "python3"
  },
  "language_info": {
   "codemirror_mode": {
    "name": "ipython",
    "version": 3
   },
   "file_extension": ".py",
   "mimetype": "text/x-python",
   "name": "python",
   "nbconvert_exporter": "python",
   "pygments_lexer": "ipython3",
   "version": "3.9.18"
  }
 },
 "nbformat": 4,
 "nbformat_minor": 5
}
